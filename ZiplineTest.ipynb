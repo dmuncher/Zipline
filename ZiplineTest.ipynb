{
 "metadata": {
  "name": "",
  "signature": "sha256:638b89e54afa23a5febca94f7296d884a4cee618e05a250f8111e9ce922d1c35"
 },
 "nbformat": 3,
 "nbformat_minor": 0,
 "worksheets": [
  {
   "cells": [
    {
     "cell_type": "code",
     "collapsed": false,
     "input": [
      "from IPython.parallel import Client\n",
      "rc=Client('C:\\Users\\Napoleon\\.starcluster\\ipcluster\\SecurityGroup@sc-ziplinecluster-us-east-1.json',sshkey='C:/Users/Napoleon/DTP/aws/napoleon/napoleon_EAST.pem')\n"
     ],
     "language": "python",
     "metadata": {},
     "outputs": [
      {
       "output_type": "stream",
       "stream": "stderr",
       "text": [
        "Vendor:  Continuum Analytics, Inc.\n",
        "Package: mkl\n",
        "Message: trial mode expires in 25 days\n",
        "C:\\Anaconda\\lib\\site-packages\\paramiko\\client.py:580: UserWarning: Unknown ssh-rsa host key for ec2-54-172-59-122.compute-1.amazonaws.com: 40780315d37bc4dbbe2bb1a996877032\n",
        "  (key.get_name(), hostname, hexlify(key.get_fingerprint())))\n"
       ]
      }
     ],
     "prompt_number": 1
    },
    {
     "cell_type": "code",
     "collapsed": false,
     "input": [
      "dview=rc[:]"
     ],
     "language": "python",
     "metadata": {},
     "outputs": [],
     "prompt_number": 2
    },
    {
     "cell_type": "code",
     "collapsed": false,
     "input": [
      "rc.shutdown()"
     ],
     "language": "python",
     "metadata": {},
     "outputs": [],
     "prompt_number": 42
    },
    {
     "cell_type": "code",
     "collapsed": false,
     "input": [
      "@dview.remote(block=True)\n",
      "def setup(p) :\n",
      "    import sys\n",
      "    sys.path.append(p)\n",
      "    return sys.path"
     ],
     "language": "python",
     "metadata": {},
     "outputs": [],
     "prompt_number": 3
    },
    {
     "cell_type": "code",
     "collapsed": false,
     "input": [
      "setup('/home/sgeadmin/pythonScripts')"
     ],
     "language": "python",
     "metadata": {},
     "outputs": [
      {
       "metadata": {},
       "output_type": "pyout",
       "prompt_number": 5,
       "text": [
        "[['',\n",
        "  '',\n",
        "  '',\n",
        "  '/usr/local/anaconda/lib/python27.zip',\n",
        "  '/usr/local/anaconda/lib/python2.7',\n",
        "  '/usr/local/anaconda/lib/python2.7/plat-linux2',\n",
        "  '/usr/local/anaconda/lib/python2.7/lib-tk',\n",
        "  '/usr/local/anaconda/lib/python2.7/lib-old',\n",
        "  '/usr/local/anaconda/lib/python2.7/lib-dynload',\n",
        "  '/usr/local/anaconda/lib/python2.7/site-packages',\n",
        "  '/usr/local/anaconda/lib/python2.7/site-packages/PIL',\n",
        "  '/usr/local/anaconda/lib/python2.7/site-packages/Sphinx-1.2.3-py2.7.egg',\n",
        "  '/usr/local/anaconda/lib/python2.7/site-packages/runipy-0.1.1-py2.7.egg',\n",
        "  '/usr/local/anaconda/lib/python2.7/site-packages/setuptools-14.0-py2.7.egg',\n",
        "  '/usr/local/anaconda/lib/python2.7/site-packages/IPython/extensions',\n",
        "  '/home/sgeadmin/pythonScripts'],\n",
        " ['',\n",
        "  '',\n",
        "  '',\n",
        "  '/usr/local/anaconda/lib/python27.zip',\n",
        "  '/usr/local/anaconda/lib/python2.7',\n",
        "  '/usr/local/anaconda/lib/python2.7/plat-linux2',\n",
        "  '/usr/local/anaconda/lib/python2.7/lib-tk',\n",
        "  '/usr/local/anaconda/lib/python2.7/lib-old',\n",
        "  '/usr/local/anaconda/lib/python2.7/lib-dynload',\n",
        "  '/usr/local/anaconda/lib/python2.7/site-packages',\n",
        "  '/usr/local/anaconda/lib/python2.7/site-packages/PIL',\n",
        "  '/usr/local/anaconda/lib/python2.7/site-packages/Sphinx-1.2.3-py2.7.egg',\n",
        "  '/usr/local/anaconda/lib/python2.7/site-packages/runipy-0.1.1-py2.7.egg',\n",
        "  '/usr/local/anaconda/lib/python2.7/site-packages/setuptools-14.0-py2.7.egg',\n",
        "  '/usr/local/anaconda/lib/python2.7/site-packages/IPython/extensions',\n",
        "  '/home/sgeadmin/pythonScripts'],\n",
        " ['',\n",
        "  '',\n",
        "  '',\n",
        "  '/usr/local/anaconda/lib/python27.zip',\n",
        "  '/usr/local/anaconda/lib/python2.7',\n",
        "  '/usr/local/anaconda/lib/python2.7/plat-linux2',\n",
        "  '/usr/local/anaconda/lib/python2.7/lib-tk',\n",
        "  '/usr/local/anaconda/lib/python2.7/lib-old',\n",
        "  '/usr/local/anaconda/lib/python2.7/lib-dynload',\n",
        "  '/usr/local/anaconda/lib/python2.7/site-packages',\n",
        "  '/usr/local/anaconda/lib/python2.7/site-packages/PIL',\n",
        "  '/usr/local/anaconda/lib/python2.7/site-packages/Sphinx-1.2.3-py2.7.egg',\n",
        "  '/usr/local/anaconda/lib/python2.7/site-packages/runipy-0.1.1-py2.7.egg',\n",
        "  '/usr/local/anaconda/lib/python2.7/site-packages/setuptools-14.0-py2.7.egg',\n",
        "  '/usr/local/anaconda/lib/python2.7/site-packages/IPython/extensions',\n",
        "  '/home/sgeadmin/pythonScripts'],\n",
        " ['',\n",
        "  '',\n",
        "  '',\n",
        "  '/usr/local/anaconda/lib/python27.zip',\n",
        "  '/usr/local/anaconda/lib/python2.7',\n",
        "  '/usr/local/anaconda/lib/python2.7/plat-linux2',\n",
        "  '/usr/local/anaconda/lib/python2.7/lib-tk',\n",
        "  '/usr/local/anaconda/lib/python2.7/lib-old',\n",
        "  '/usr/local/anaconda/lib/python2.7/lib-dynload',\n",
        "  '/usr/local/anaconda/lib/python2.7/site-packages',\n",
        "  '/usr/local/anaconda/lib/python2.7/site-packages/PIL',\n",
        "  '/usr/local/anaconda/lib/python2.7/site-packages/Sphinx-1.2.3-py2.7.egg',\n",
        "  '/usr/local/anaconda/lib/python2.7/site-packages/runipy-0.1.1-py2.7.egg',\n",
        "  '/usr/local/anaconda/lib/python2.7/site-packages/setuptools-14.0-py2.7.egg',\n",
        "  '/usr/local/anaconda/lib/python2.7/site-packages/IPython/extensions',\n",
        "  '/home/sgeadmin/pythonScripts'],\n",
        " ['',\n",
        "  '',\n",
        "  '',\n",
        "  '/usr/local/anaconda/lib/python27.zip',\n",
        "  '/usr/local/anaconda/lib/python2.7',\n",
        "  '/usr/local/anaconda/lib/python2.7/plat-linux2',\n",
        "  '/usr/local/anaconda/lib/python2.7/lib-tk',\n",
        "  '/usr/local/anaconda/lib/python2.7/lib-old',\n",
        "  '/usr/local/anaconda/lib/python2.7/lib-dynload',\n",
        "  '/usr/local/anaconda/lib/python2.7/site-packages',\n",
        "  '/usr/local/anaconda/lib/python2.7/site-packages/PIL',\n",
        "  '/usr/local/anaconda/lib/python2.7/site-packages/Sphinx-1.2.3-py2.7.egg',\n",
        "  '/usr/local/anaconda/lib/python2.7/site-packages/runipy-0.1.1-py2.7.egg',\n",
        "  '/usr/local/anaconda/lib/python2.7/site-packages/setuptools-14.0-py2.7.egg',\n",
        "  '/usr/local/anaconda/lib/python2.7/site-packages/IPython/extensions',\n",
        "  '/home/sgeadmin/pythonScripts'],\n",
        " ['',\n",
        "  '',\n",
        "  '',\n",
        "  '/usr/local/anaconda/lib/python27.zip',\n",
        "  '/usr/local/anaconda/lib/python2.7',\n",
        "  '/usr/local/anaconda/lib/python2.7/plat-linux2',\n",
        "  '/usr/local/anaconda/lib/python2.7/lib-tk',\n",
        "  '/usr/local/anaconda/lib/python2.7/lib-old',\n",
        "  '/usr/local/anaconda/lib/python2.7/lib-dynload',\n",
        "  '/usr/local/anaconda/lib/python2.7/site-packages',\n",
        "  '/usr/local/anaconda/lib/python2.7/site-packages/PIL',\n",
        "  '/usr/local/anaconda/lib/python2.7/site-packages/Sphinx-1.2.3-py2.7.egg',\n",
        "  '/usr/local/anaconda/lib/python2.7/site-packages/runipy-0.1.1-py2.7.egg',\n",
        "  '/usr/local/anaconda/lib/python2.7/site-packages/setuptools-14.0-py2.7.egg',\n",
        "  '/usr/local/anaconda/lib/python2.7/site-packages/IPython/extensions',\n",
        "  '/home/sgeadmin/pythonScripts'],\n",
        " ['',\n",
        "  '',\n",
        "  '',\n",
        "  '/usr/local/anaconda/lib/python27.zip',\n",
        "  '/usr/local/anaconda/lib/python2.7',\n",
        "  '/usr/local/anaconda/lib/python2.7/plat-linux2',\n",
        "  '/usr/local/anaconda/lib/python2.7/lib-tk',\n",
        "  '/usr/local/anaconda/lib/python2.7/lib-old',\n",
        "  '/usr/local/anaconda/lib/python2.7/lib-dynload',\n",
        "  '/usr/local/anaconda/lib/python2.7/site-packages',\n",
        "  '/usr/local/anaconda/lib/python2.7/site-packages/PIL',\n",
        "  '/usr/local/anaconda/lib/python2.7/site-packages/Sphinx-1.2.3-py2.7.egg',\n",
        "  '/usr/local/anaconda/lib/python2.7/site-packages/runipy-0.1.1-py2.7.egg',\n",
        "  '/usr/local/anaconda/lib/python2.7/site-packages/setuptools-14.0-py2.7.egg',\n",
        "  '/usr/local/anaconda/lib/python2.7/site-packages/IPython/extensions',\n",
        "  '/home/sgeadmin/pythonScripts'],\n",
        " ['',\n",
        "  '',\n",
        "  '',\n",
        "  '/usr/local/anaconda/lib/python27.zip',\n",
        "  '/usr/local/anaconda/lib/python2.7',\n",
        "  '/usr/local/anaconda/lib/python2.7/plat-linux2',\n",
        "  '/usr/local/anaconda/lib/python2.7/lib-tk',\n",
        "  '/usr/local/anaconda/lib/python2.7/lib-old',\n",
        "  '/usr/local/anaconda/lib/python2.7/lib-dynload',\n",
        "  '/usr/local/anaconda/lib/python2.7/site-packages',\n",
        "  '/usr/local/anaconda/lib/python2.7/site-packages/PIL',\n",
        "  '/usr/local/anaconda/lib/python2.7/site-packages/Sphinx-1.2.3-py2.7.egg',\n",
        "  '/usr/local/anaconda/lib/python2.7/site-packages/runipy-0.1.1-py2.7.egg',\n",
        "  '/usr/local/anaconda/lib/python2.7/site-packages/setuptools-14.0-py2.7.egg',\n",
        "  '/usr/local/anaconda/lib/python2.7/site-packages/IPython/extensions',\n",
        "  '/home/sgeadmin/pythonScripts'],\n",
        " ['',\n",
        "  '',\n",
        "  '',\n",
        "  '/usr/local/anaconda/lib/python27.zip',\n",
        "  '/usr/local/anaconda/lib/python2.7',\n",
        "  '/usr/local/anaconda/lib/python2.7/plat-linux2',\n",
        "  '/usr/local/anaconda/lib/python2.7/lib-tk',\n",
        "  '/usr/local/anaconda/lib/python2.7/lib-old',\n",
        "  '/usr/local/anaconda/lib/python2.7/lib-dynload',\n",
        "  '/usr/local/anaconda/lib/python2.7/site-packages',\n",
        "  '/usr/local/anaconda/lib/python2.7/site-packages/PIL',\n",
        "  '/usr/local/anaconda/lib/python2.7/site-packages/Sphinx-1.2.3-py2.7.egg',\n",
        "  '/usr/local/anaconda/lib/python2.7/site-packages/runipy-0.1.1-py2.7.egg',\n",
        "  '/usr/local/anaconda/lib/python2.7/site-packages/setuptools-14.0-py2.7.egg',\n",
        "  '/usr/local/anaconda/lib/python2.7/site-packages/IPython/extensions',\n",
        "  '/home/sgeadmin/pythonScripts'],\n",
        " ['',\n",
        "  '',\n",
        "  '',\n",
        "  '/usr/local/anaconda/lib/python27.zip',\n",
        "  '/usr/local/anaconda/lib/python2.7',\n",
        "  '/usr/local/anaconda/lib/python2.7/plat-linux2',\n",
        "  '/usr/local/anaconda/lib/python2.7/lib-tk',\n",
        "  '/usr/local/anaconda/lib/python2.7/lib-old',\n",
        "  '/usr/local/anaconda/lib/python2.7/lib-dynload',\n",
        "  '/usr/local/anaconda/lib/python2.7/site-packages',\n",
        "  '/usr/local/anaconda/lib/python2.7/site-packages/PIL',\n",
        "  '/usr/local/anaconda/lib/python2.7/site-packages/Sphinx-1.2.3-py2.7.egg',\n",
        "  '/usr/local/anaconda/lib/python2.7/site-packages/runipy-0.1.1-py2.7.egg',\n",
        "  '/usr/local/anaconda/lib/python2.7/site-packages/setuptools-14.0-py2.7.egg',\n",
        "  '/usr/local/anaconda/lib/python2.7/site-packages/IPython/extensions',\n",
        "  '/home/sgeadmin/pythonScripts'],\n",
        " ['',\n",
        "  '',\n",
        "  '',\n",
        "  '/usr/local/anaconda/lib/python27.zip',\n",
        "  '/usr/local/anaconda/lib/python2.7',\n",
        "  '/usr/local/anaconda/lib/python2.7/plat-linux2',\n",
        "  '/usr/local/anaconda/lib/python2.7/lib-tk',\n",
        "  '/usr/local/anaconda/lib/python2.7/lib-old',\n",
        "  '/usr/local/anaconda/lib/python2.7/lib-dynload',\n",
        "  '/usr/local/anaconda/lib/python2.7/site-packages',\n",
        "  '/usr/local/anaconda/lib/python2.7/site-packages/PIL',\n",
        "  '/usr/local/anaconda/lib/python2.7/site-packages/Sphinx-1.2.3-py2.7.egg',\n",
        "  '/usr/local/anaconda/lib/python2.7/site-packages/runipy-0.1.1-py2.7.egg',\n",
        "  '/usr/local/anaconda/lib/python2.7/site-packages/setuptools-14.0-py2.7.egg',\n",
        "  '/usr/local/anaconda/lib/python2.7/site-packages/IPython/extensions',\n",
        "  '/home/sgeadmin/pythonScripts'],\n",
        " ['',\n",
        "  '',\n",
        "  '',\n",
        "  '/usr/local/anaconda/lib/python27.zip',\n",
        "  '/usr/local/anaconda/lib/python2.7',\n",
        "  '/usr/local/anaconda/lib/python2.7/plat-linux2',\n",
        "  '/usr/local/anaconda/lib/python2.7/lib-tk',\n",
        "  '/usr/local/anaconda/lib/python2.7/lib-old',\n",
        "  '/usr/local/anaconda/lib/python2.7/lib-dynload',\n",
        "  '/usr/local/anaconda/lib/python2.7/site-packages',\n",
        "  '/usr/local/anaconda/lib/python2.7/site-packages/PIL',\n",
        "  '/usr/local/anaconda/lib/python2.7/site-packages/Sphinx-1.2.3-py2.7.egg',\n",
        "  '/usr/local/anaconda/lib/python2.7/site-packages/runipy-0.1.1-py2.7.egg',\n",
        "  '/usr/local/anaconda/lib/python2.7/site-packages/setuptools-14.0-py2.7.egg',\n",
        "  '/usr/local/anaconda/lib/python2.7/site-packages/IPython/extensions',\n",
        "  '/home/sgeadmin/pythonScripts'],\n",
        " ['',\n",
        "  '',\n",
        "  '',\n",
        "  '/usr/local/anaconda/lib/python27.zip',\n",
        "  '/usr/local/anaconda/lib/python2.7',\n",
        "  '/usr/local/anaconda/lib/python2.7/plat-linux2',\n",
        "  '/usr/local/anaconda/lib/python2.7/lib-tk',\n",
        "  '/usr/local/anaconda/lib/python2.7/lib-old',\n",
        "  '/usr/local/anaconda/lib/python2.7/lib-dynload',\n",
        "  '/usr/local/anaconda/lib/python2.7/site-packages',\n",
        "  '/usr/local/anaconda/lib/python2.7/site-packages/PIL',\n",
        "  '/usr/local/anaconda/lib/python2.7/site-packages/Sphinx-1.2.3-py2.7.egg',\n",
        "  '/usr/local/anaconda/lib/python2.7/site-packages/runipy-0.1.1-py2.7.egg',\n",
        "  '/usr/local/anaconda/lib/python2.7/site-packages/setuptools-14.0-py2.7.egg',\n",
        "  '/usr/local/anaconda/lib/python2.7/site-packages/IPython/extensions',\n",
        "  '/home/sgeadmin/pythonScripts'],\n",
        " ['',\n",
        "  '',\n",
        "  '',\n",
        "  '/usr/local/anaconda/lib/python27.zip',\n",
        "  '/usr/local/anaconda/lib/python2.7',\n",
        "  '/usr/local/anaconda/lib/python2.7/plat-linux2',\n",
        "  '/usr/local/anaconda/lib/python2.7/lib-tk',\n",
        "  '/usr/local/anaconda/lib/python2.7/lib-old',\n",
        "  '/usr/local/anaconda/lib/python2.7/lib-dynload',\n",
        "  '/usr/local/anaconda/lib/python2.7/site-packages',\n",
        "  '/usr/local/anaconda/lib/python2.7/site-packages/PIL',\n",
        "  '/usr/local/anaconda/lib/python2.7/site-packages/Sphinx-1.2.3-py2.7.egg',\n",
        "  '/usr/local/anaconda/lib/python2.7/site-packages/runipy-0.1.1-py2.7.egg',\n",
        "  '/usr/local/anaconda/lib/python2.7/site-packages/setuptools-14.0-py2.7.egg',\n",
        "  '/usr/local/anaconda/lib/python2.7/site-packages/IPython/extensions',\n",
        "  '/home/sgeadmin/pythonScripts'],\n",
        " ['',\n",
        "  '',\n",
        "  '',\n",
        "  '/usr/local/anaconda/lib/python27.zip',\n",
        "  '/usr/local/anaconda/lib/python2.7',\n",
        "  '/usr/local/anaconda/lib/python2.7/plat-linux2',\n",
        "  '/usr/local/anaconda/lib/python2.7/lib-tk',\n",
        "  '/usr/local/anaconda/lib/python2.7/lib-old',\n",
        "  '/usr/local/anaconda/lib/python2.7/lib-dynload',\n",
        "  '/usr/local/anaconda/lib/python2.7/site-packages',\n",
        "  '/usr/local/anaconda/lib/python2.7/site-packages/PIL',\n",
        "  '/usr/local/anaconda/lib/python2.7/site-packages/Sphinx-1.2.3-py2.7.egg',\n",
        "  '/usr/local/anaconda/lib/python2.7/site-packages/runipy-0.1.1-py2.7.egg',\n",
        "  '/usr/local/anaconda/lib/python2.7/site-packages/setuptools-14.0-py2.7.egg',\n",
        "  '/usr/local/anaconda/lib/python2.7/site-packages/IPython/extensions',\n",
        "  '/home/sgeadmin/pythonScripts'],\n",
        " ['',\n",
        "  '',\n",
        "  '',\n",
        "  '/usr/local/anaconda/lib/python27.zip',\n",
        "  '/usr/local/anaconda/lib/python2.7',\n",
        "  '/usr/local/anaconda/lib/python2.7/plat-linux2',\n",
        "  '/usr/local/anaconda/lib/python2.7/lib-tk',\n",
        "  '/usr/local/anaconda/lib/python2.7/lib-old',\n",
        "  '/usr/local/anaconda/lib/python2.7/lib-dynload',\n",
        "  '/usr/local/anaconda/lib/python2.7/site-packages',\n",
        "  '/usr/local/anaconda/lib/python2.7/site-packages/PIL',\n",
        "  '/usr/local/anaconda/lib/python2.7/site-packages/Sphinx-1.2.3-py2.7.egg',\n",
        "  '/usr/local/anaconda/lib/python2.7/site-packages/runipy-0.1.1-py2.7.egg',\n",
        "  '/usr/local/anaconda/lib/python2.7/site-packages/setuptools-14.0-py2.7.egg',\n",
        "  '/usr/local/anaconda/lib/python2.7/site-packages/IPython/extensions',\n",
        "  '/home/sgeadmin/pythonScripts'],\n",
        " ['',\n",
        "  '',\n",
        "  '',\n",
        "  '/usr/local/anaconda/lib/python27.zip',\n",
        "  '/usr/local/anaconda/lib/python2.7',\n",
        "  '/usr/local/anaconda/lib/python2.7/plat-linux2',\n",
        "  '/usr/local/anaconda/lib/python2.7/lib-tk',\n",
        "  '/usr/local/anaconda/lib/python2.7/lib-old',\n",
        "  '/usr/local/anaconda/lib/python2.7/lib-dynload',\n",
        "  '/usr/local/anaconda/lib/python2.7/site-packages',\n",
        "  '/usr/local/anaconda/lib/python2.7/site-packages/PIL',\n",
        "  '/usr/local/anaconda/lib/python2.7/site-packages/Sphinx-1.2.3-py2.7.egg',\n",
        "  '/usr/local/anaconda/lib/python2.7/site-packages/runipy-0.1.1-py2.7.egg',\n",
        "  '/usr/local/anaconda/lib/python2.7/site-packages/setuptools-14.0-py2.7.egg',\n",
        "  '/usr/local/anaconda/lib/python2.7/site-packages/IPython/extensions',\n",
        "  '/home/sgeadmin/pythonScripts'],\n",
        " ['',\n",
        "  '',\n",
        "  '',\n",
        "  '/usr/local/anaconda/lib/python27.zip',\n",
        "  '/usr/local/anaconda/lib/python2.7',\n",
        "  '/usr/local/anaconda/lib/python2.7/plat-linux2',\n",
        "  '/usr/local/anaconda/lib/python2.7/lib-tk',\n",
        "  '/usr/local/anaconda/lib/python2.7/lib-old',\n",
        "  '/usr/local/anaconda/lib/python2.7/lib-dynload',\n",
        "  '/usr/local/anaconda/lib/python2.7/site-packages',\n",
        "  '/usr/local/anaconda/lib/python2.7/site-packages/PIL',\n",
        "  '/usr/local/anaconda/lib/python2.7/site-packages/Sphinx-1.2.3-py2.7.egg',\n",
        "  '/usr/local/anaconda/lib/python2.7/site-packages/runipy-0.1.1-py2.7.egg',\n",
        "  '/usr/local/anaconda/lib/python2.7/site-packages/setuptools-14.0-py2.7.egg',\n",
        "  '/usr/local/anaconda/lib/python2.7/site-packages/IPython/extensions',\n",
        "  '/home/sgeadmin/pythonScripts'],\n",
        " ['',\n",
        "  '',\n",
        "  '',\n",
        "  '/usr/local/anaconda/lib/python27.zip',\n",
        "  '/usr/local/anaconda/lib/python2.7',\n",
        "  '/usr/local/anaconda/lib/python2.7/plat-linux2',\n",
        "  '/usr/local/anaconda/lib/python2.7/lib-tk',\n",
        "  '/usr/local/anaconda/lib/python2.7/lib-old',\n",
        "  '/usr/local/anaconda/lib/python2.7/lib-dynload',\n",
        "  '/usr/local/anaconda/lib/python2.7/site-packages',\n",
        "  '/usr/local/anaconda/lib/python2.7/site-packages/PIL',\n",
        "  '/usr/local/anaconda/lib/python2.7/site-packages/Sphinx-1.2.3-py2.7.egg',\n",
        "  '/usr/local/anaconda/lib/python2.7/site-packages/runipy-0.1.1-py2.7.egg',\n",
        "  '/usr/local/anaconda/lib/python2.7/site-packages/setuptools-14.0-py2.7.egg',\n",
        "  '/usr/local/anaconda/lib/python2.7/site-packages/IPython/extensions',\n",
        "  '/home/sgeadmin/pythonScripts'],\n",
        " ['',\n",
        "  '',\n",
        "  '',\n",
        "  '/usr/local/anaconda/lib/python27.zip',\n",
        "  '/usr/local/anaconda/lib/python2.7',\n",
        "  '/usr/local/anaconda/lib/python2.7/plat-linux2',\n",
        "  '/usr/local/anaconda/lib/python2.7/lib-tk',\n",
        "  '/usr/local/anaconda/lib/python2.7/lib-old',\n",
        "  '/usr/local/anaconda/lib/python2.7/lib-dynload',\n",
        "  '/usr/local/anaconda/lib/python2.7/site-packages',\n",
        "  '/usr/local/anaconda/lib/python2.7/site-packages/PIL',\n",
        "  '/usr/local/anaconda/lib/python2.7/site-packages/Sphinx-1.2.3-py2.7.egg',\n",
        "  '/usr/local/anaconda/lib/python2.7/site-packages/runipy-0.1.1-py2.7.egg',\n",
        "  '/usr/local/anaconda/lib/python2.7/site-packages/setuptools-14.0-py2.7.egg',\n",
        "  '/usr/local/anaconda/lib/python2.7/site-packages/IPython/extensions',\n",
        "  '/home/sgeadmin/pythonScripts']]"
       ]
      }
     ],
     "prompt_number": 5
    },
    {
     "cell_type": "code",
     "collapsed": false,
     "input": [
      "dview.execute('import anticor', block=True)"
     ],
     "language": "python",
     "metadata": {},
     "outputs": [
      {
       "metadata": {},
       "output_type": "pyout",
       "prompt_number": 6,
       "text": [
        "<AsyncResult: finished>"
       ]
      }
     ],
     "prompt_number": 6
    },
    {
     "cell_type": "code",
     "collapsed": false,
     "input": [
      "from pandas import Timestamp\n",
      "from pandas import DataFrame"
     ],
     "language": "python",
     "metadata": {},
     "outputs": [],
     "prompt_number": 7
    },
    {
     "cell_type": "code",
     "collapsed": false,
     "input": [
      "import datetime\n",
      "start = datetime.datetime(2012, 1, 15)\n",
      "end = datetime.datetime(2015, 1, 15)\n",
      "dview['start'] = start\n",
      "dview['end'] = end\n",
      "dview['runName'] = 'TestOne'\n",
      "dview['savePath'] = '/home/sgeadmin/pythonScripts/output'\n",
      "dview['thisRunTime'] = str(Timestamp('today')).replace(\" \",\"_\").replace(\":\",\"\").replace(\"-\",\"\").partition(\".\")[0]"
     ],
     "language": "python",
     "metadata": {},
     "outputs": [],
     "prompt_number": 8
    },
    {
     "cell_type": "code",
     "collapsed": false,
     "input": [
      "possibleNames = DataFrame.from_csv(\"https://s3.amazonaws.com/quandl-static-content/Ticker+CSV%27s/Indicies/SP500.csv\").index.values"
     ],
     "language": "python",
     "metadata": {},
     "outputs": [],
     "prompt_number": 9
    },
    {
     "cell_type": "code",
     "collapsed": false,
     "input": [
      "import random\n",
      "random.seed(\"5708htgfisy\")\n",
      "def random_combination(iterable, r):\n",
      "    \"Random selection from itertools.combinations(iterable, r)\"\n",
      "    pool = tuple(iterable)\n",
      "    n = len(pool)\n",
      "    indices = sorted(random.sample(xrange(n), r))\n",
      "    return tuple(pool[i] for i in indices)"
     ],
     "language": "python",
     "metadata": {},
     "outputs": [],
     "prompt_number": 10
    },
    {
     "cell_type": "code",
     "collapsed": false,
     "input": [
      "nStocks = 7\n",
      "nSamplesPerWindowLength = 1050\n",
      "windowLength = 4\n",
      "testSets = sum([[(nSamplesPerWindowLength*j+i,j+3,random_combination(possibleNames, nStocks)) for i in range(0,nSamplesPerWindowLength)] for j in range (0,windowLength)],[])"
     ],
     "language": "python",
     "metadata": {},
     "outputs": [],
     "prompt_number": 19
    },
    {
     "cell_type": "code",
     "collapsed": false,
     "input": [
      "testSets"
     ],
     "language": "python",
     "metadata": {},
     "outputs": [
      {
       "metadata": {},
       "output_type": "pyout",
       "prompt_number": 22,
       "text": [
        "[(0, 3, ('A', 'CNX', 'CSX', 'XRAY', 'DPS', 'FLIR', 'TEG')),\n",
        " (1, 3, ('ACN', 'ADSK', 'DFS', 'GCI', 'PSA', 'SYY', 'VAR')),\n",
        " (2, 3, ('GAS', 'ABC', 'BEN', 'KRFT', 'PSA', 'REGN', 'URBN')),\n",
        " (3, 3, ('APD', 'CMG', 'D', 'EL', 'FB', 'MRK', 'CRM')),\n",
        " (4, 3, ('GAS', 'BHI', 'CAH', 'GRMN', 'INTU', 'NKE', 'WIN')),\n",
        " (5, 3, ('ADT', 'AVB', 'DNB', 'GPS', 'CRM', 'SWN', 'HOT')),\n",
        " (6, 3, ('CMS', 'GCI', 'GS', 'HAL', 'PDCO', 'PGR', 'CRM')),\n",
        " (7, 3, ('COH', 'DHR', 'DVA', 'MAC', 'MNK', 'PSA', 'RSG')),\n",
        " (8, 3, ('ALXN', 'AMGN', 'AVY', 'COH', 'KLAC', 'LNC', 'MRK')),\n",
        " (9, 3, ('AON', 'M', 'MRO', 'MA', 'KORS', 'OKE', 'UNM')),\n",
        " (10, 3, ('APA', 'CERN', 'CB', 'DOW', 'FE', 'PLD', 'UNH')),\n",
        " (11, 3, ('CMCSA', 'DG', 'F', 'LNC', 'NE', 'PNW', 'RAI')),\n",
        " (12, 3, ('AEE', 'DNB', 'HAL', 'HIG', 'IP', 'UNP', 'ZMH')),\n",
        " (13, 3, ('AEP', 'AZO', 'BHI', 'CVX', 'NKE', 'PSX', 'PPL')),\n",
        " (14, 3, ('AIG', 'AIZ', 'KEY', 'NTRS', 'URI', 'UNM', 'VAR')),\n",
        " (15, 3, ('AKAM', 'AIV', 'AIZ', 'DOW', 'EOG', 'NRG', 'XYL')),\n",
        " (16, 3, ('AMG', 'BDX', 'EOG', 'EXPD', 'HON', 'MPC', 'UNH')),\n",
        " (17, 3, ('APA', 'CAT', 'CSX', 'DHI', 'K', 'MNK', 'WMT')),\n",
        " (18, 3, ('CAT', 'PM', 'RF', 'TEL', 'USB', 'VRTX', 'ZTS')),\n",
        " (19, 3, ('AMG', 'MO', 'HON', 'MPC', 'COL', 'STI', 'TMK')),\n",
        " (20, 3, ('CTSH', 'HAR', 'HCN', 'ICE', 'KSU', 'LLTC', 'SRE')),\n",
        " (21, 3, ('COF', 'GPC', 'HRS', 'MDT', 'NOV', 'NTAP', 'SJM')),\n",
        " (22, 3, ('CLX', 'ESRX', 'LEG', 'NTAP', 'NI', 'PNW', 'TRIP')),\n",
        " (23, 3, ('AA', 'AME', 'CAG', 'EA', 'HBAN', 'KIM', 'MDLZ')),\n",
        " (24, 3, ('AKAM', 'BWA', 'CTAS', 'EXC', 'MAR', 'MSFT', 'PKI')),\n",
        " (25, 3, ('CA', 'DVN', 'FIS', 'ISRG', 'LRCX', 'PPL', 'URBN')),\n",
        " (26, 3, ('BBBY', 'BA', 'CTL', 'DLPH', 'JCI', 'TAP', 'TE')),\n",
        " (27, 3, ('DE', 'GWW', 'MMC', 'PBCT', 'PGR', 'STX', 'TDC')),\n",
        " (28, 3, ('ADT', 'BWA', 'CFN', 'FSLR', 'IRM', 'PPL', 'ROP')),\n",
        " (29, 3, ('CHRW', 'CMG', 'HST', 'MMC', 'MUR', 'SRE', 'YHOO')),\n",
        " (30, 3, ('ARG', 'CME', 'ED', 'DVN', 'GCI', 'HBAN', 'DGX')),\n",
        " (31, 3, ('AMAT', 'AVGO', 'CAM', 'CVS', 'EQR', 'KSS', 'PPG')),\n",
        " (32, 3, ('AIZ', 'GRMN', 'GILD', 'LLL', 'MSI', 'NEE', 'RTN')),\n",
        " (33, 3, ('FCX', 'MRO', 'NWSA', 'JWN', 'PEP', 'PCL', 'UNP')),\n",
        " (34, 3, ('ACE', 'BCR', 'DHI', 'K', 'MU', 'STJ', 'TSS')),\n",
        " (35, 3, ('ALLE', 'ALTR', 'CHK', 'CMG', 'D', 'JCI', 'WU')),\n",
        " (36, 3, ('EOG', 'FIS', 'KEY', 'NEE', 'PNW', 'ROP', 'STT')),\n",
        " (37, 3, ('BRCM', 'CBS', 'CF', 'CI', 'CAG', 'ED', 'PCG')),\n",
        " (38, 3, ('GME', 'TAP', 'OMC', 'PEP', 'PVH', 'SCG', 'V')),\n",
        " (39, 3, ('CBS', 'HIG', 'HCP', 'HST', 'SPLS', 'UPS', 'WU')),\n",
        " (40, 3, ('MMM', 'ALLE', 'ESS', 'FIS', 'LRCX', 'NU', 'SEE')),\n",
        " (41, 3, ('T', 'BMY', 'HP', 'MNK', 'MPC', 'NKE', 'XRX')),\n",
        " (42, 3, ('ADI', 'AVB', 'BF-B', 'ETR', 'JNJ', 'LYB', 'PBCT')),\n",
        " (43, 3, ('APH', 'AVGO', 'DUK', 'GS', 'HSP', 'INTC', 'V')),\n",
        " (44, 3, ('KO', 'JPM', 'OMC', 'PRGO', 'PSA', 'WMT', 'WY')),\n",
        " (45, 3, ('ALXN', 'ALLE', 'ADS', 'AIG', 'DTE', 'FDX', 'LLTC')),\n",
        " (46, 3, ('AET', 'ALTR', 'BXP', 'HRS', 'JCI', 'TXN', 'ZTS')),\n",
        " (47, 3, ('FOSL', 'GM', 'GPC', 'KIM', 'MDLZ', 'MYL', 'UNP')),\n",
        " (48, 3, ('HIG', 'HST', 'PM', 'RF', 'SWY', 'VNO', 'WEC')),\n",
        " (49, 3, ('AMT', 'BCR', 'DLPH', 'EIX', 'JEC', 'TMO', 'ZTS')),\n",
        " (50, 3, ('APD', 'COG', 'CF', 'NE', 'PCAR', 'PCP', 'TMO')),\n",
        " (51, 3, ('D', 'FLS', 'MCK', 'NDAQ', 'TSO', 'USB', 'UHS')),\n",
        " (52, 3, ('AIG', 'ESS', 'FMC', 'SRCL', 'TDC', 'TXN', 'RIG')),\n",
        " (53, 3, ('CAH', 'CNP', 'CI', 'FLIR', 'MRO', 'NKE', 'TWC')),\n",
        " (54, 3, ('AMT', 'AVP', 'CAG', 'GME', 'GOOG', 'MCO', 'WYNN')),\n",
        " (55, 3, ('AMAT', 'BLK', 'KMX', 'EMC', 'KSS', 'VRTX', 'ZION')),\n",
        " (56, 3, ('AN', 'GCI', 'TEG', 'MA', 'PNR', 'USB', 'WAT')),\n",
        " (57, 3, ('AEE', 'ESS', 'GD', 'HCBK', 'MJN', 'NDAQ', 'WEC')),\n",
        " (58, 3, ('APC', 'BK', 'GPS', 'PCAR', 'POM', 'STX', 'WLP')),\n",
        " (59, 3, ('BXP', 'FB', 'LLTC', 'L', 'TAP', 'MDLZ', 'PKI')),\n",
        " (60, 3, ('BMY', 'CA', 'CAH', 'DTV', 'MTB', 'MLM', 'WHR')),\n",
        " (61, 3, ('AMZN', 'BSX', 'GPS', 'OMC', 'PCP', 'RHT', 'WFM')),\n",
        " (62, 3, ('CTAS', 'DHR', 'HRS', 'KSU', 'KSS', 'SWN', 'XRX')),\n",
        " (63, 3, ('AFL', 'BXP', 'CELG', 'LMT', 'PFE', 'TJX', 'VRSN')),\n",
        " (64, 3, ('EQR', 'ITW', 'IFF', 'ISRG', 'RHT', 'SNI', 'XEL')),\n",
        " (65, 3, ('BAC', 'DO', 'GD', 'IVZ', 'NWL', 'PSA', 'VRTX')),\n",
        " (66, 3, ('AIG', 'CB', 'EQR', 'SE', 'SYK', 'URI', 'VFC')),\n",
        " (67, 3, ('AVP', 'CFN', 'CCE', 'DNR', 'NKE', 'RTN', 'VRSN')),\n",
        " (68, 3, ('BLL', 'BA', 'CHRW', 'ETN', 'MWV', 'NLSN', 'OXY')),\n",
        " (69, 3, ('ACE', 'COG', 'JBL', 'TAP', 'PSA', 'SCHW', 'WAT')),\n",
        " (70, 3, ('MMM', 'AAPL', 'BBT', 'BMS', 'CMCSA', 'MRK', 'VRSN')),\n",
        " (71, 3, ('CAT', 'INTU', 'IRM', 'LUK', 'NFX', 'SRCL', 'TSS')),\n",
        " (72, 3, ('CBG', 'CB', 'DRI', 'EMC', 'GRMN', 'WIN', 'XEL')),\n",
        " (73, 3, ('AVGO', 'BRCM', 'CBG', 'FMC', 'NAVI', 'WMB', 'YUM')),\n",
        " (74, 3, ('AXP', 'CAM', 'LLY', 'PDCO', 'PKI', 'PCLN', 'TGT')),\n",
        " (75, 3, ('CMG', 'ESS', 'INTC', 'K', 'MTB', 'SNI', 'TGT')),\n",
        " (76, 3, ('AXP', 'DGX', 'RAI', 'SLB', 'TXN', 'UNP', 'XRX')),\n",
        " (77, 3, ('HAS', 'ITW', 'KMB', 'MRK', 'SPG', 'UPS', 'ZTS')),\n",
        " (78, 3, ('ACE', 'AN', 'BDX', 'DOV', 'GRMN', 'KRFT', 'LMT')),\n",
        " (79, 3, ('ADP', 'COH', 'HAS', 'HON', 'KMB', 'MHFI', 'SJM')),\n",
        " (80, 3, ('ADM', 'GRMN', 'NTRS', 'PAYX', 'SEE', 'TMK', 'WYN')),\n",
        " (81, 3, ('AIZ', 'CBG', 'DVN', 'GMCR', 'KMI', 'KORS', 'PKI')),\n",
        " (82, 3, ('CNP', 'DUK', 'ESRX', 'LNC', 'MJN', 'NWL', 'ROP')),\n",
        " (83, 3, ('AEE', 'APC', 'XRAY', 'HCN', 'HPQ', 'MA', 'MDLZ')),\n",
        " (84, 3, ('APH', 'DVN', 'FTI', 'GD', 'PPL', 'VRSN', 'WHR')),\n",
        " (85, 3, ('BRK-B', 'EFX', 'HBAN', 'INTU', 'SNI', 'TWC', 'VNO')),\n",
        " (86, 3, ('AVGO', 'DAL', 'DD', 'FLR', 'HCBK', 'RSG', 'SWY')),\n",
        " (87, 3, ('CAH', 'DAL', 'LLTC', 'LO', 'MMC', 'MU', 'PCAR')),\n",
        " (88, 3, ('ABT', 'BBY', 'CCE', 'COP', 'GILD', 'GWW', 'TGT')),\n",
        " (89, 3, ('BWA', 'CMG', 'CI', 'DPS', 'EMN', 'KSS', 'MUR')),\n",
        " (90, 3, ('AEE', 'AZO', 'BLL', 'CTAS', 'ETR', 'PVH', 'YHOO')),\n",
        " (91, 3, ('BHI', 'ETN', 'HAL', 'IPG', 'PCAR', 'SCG', 'HOT')),\n",
        " (92, 3, ('EFX', 'HES', 'MNK', 'ORCL', 'POM', 'SWN', 'WFC')),\n",
        " (93, 3, ('DVA', 'HON', 'M', 'MET', 'DGX', 'TXN', 'UNP')),\n",
        " (94, 3, ('ADS', 'BAC', 'BLK', 'KLAC', 'NOC', 'PPG', 'ZION')),\n",
        " (95, 3, ('EBAY', 'FISV', 'MLM', 'DGX', 'SCG', 'SCHW', 'SO')),\n",
        " (96, 3, ('CVC', 'DVN', 'MCD', 'MYL', 'NOV', 'TRIP', 'WMB')),\n",
        " (97, 3, ('ADT', 'BHI', 'BMY', 'CCE', 'MMC', 'OMC', 'XEL')),\n",
        " (98, 3, ('AES', 'GAS', 'BLL', 'CSC', 'MCO', 'PSX', 'RAI')),\n",
        " (99, 3, ('BXP', 'CB', 'FB', 'FDX', 'GILD', 'ORCL', 'WAT')),\n",
        " (100, 3, ('ADP', 'DHI', 'DFS', 'PNW', 'RAI', 'SWY', 'STX')),\n",
        " (101, 3, ('CNP', 'M', 'NFLX', 'SLB', 'SNI', 'WY', 'WEC')),\n",
        " (102, 3, ('ALTR', 'FIS', 'FSLR', 'GPC', 'MAR', 'MWV', 'XYL')),\n",
        " (103, 3, ('CMG', 'CTAS', 'CNX', 'DTE', 'DD', 'KEY', 'QCOM')),\n",
        " (104, 3, ('HP', 'KMI', 'MA', 'PKI', 'REGN', 'URBN', 'WFC')),\n",
        " (105, 3, ('CTAS', 'CTXS', 'FSLR', 'IVZ', 'KEY', 'LH', 'TE')),\n",
        " (106, 3, ('CELG', 'MHFI', 'PEP', 'PKI', 'PCLN', 'RRC', 'ROK')),\n",
        " (107, 3, ('MO', 'AMT', 'CTAS', 'CCE', 'DISCA', 'FITB', 'SWY')),\n",
        " (108, 3, ('CMA', 'FAST', 'MRK', 'SEE', 'SYY', 'UNM', 'DIS')),\n",
        " (109, 3, ('CMG', 'DLTR', 'FB', 'BEN', 'IPG', 'NAVI', 'OI')),\n",
        " (110, 3, ('ALL', 'AAPL', 'BBT', 'DTE', 'HD', 'TSO', 'VZ')),\n",
        " (111, 3, ('ADSK', 'CLX', 'DPS', 'ESS', 'MAC', 'QCOM', 'FOXA')),\n",
        " (112, 3, ('AET', 'DLPH', 'HBAN', 'SEE', 'SRE', 'SNA', 'SRCL')),\n",
        " (113, 3, ('ACT', 'ABC', 'AME', 'DOV', 'ETFC', 'MAC', 'SHW')),\n",
        " (114, 3, ('AIV', 'CLX', 'FE', 'LEN', 'PLL', 'QEP', 'WEC')),\n",
        " (115, 3, ('CA', 'DOV', 'MCHP', 'NDAQ', 'LUV', 'SWN', 'TE')),\n",
        " (116, 3, ('ABC', 'BWA', 'CMI', 'NTRS', 'PRGO', 'TE', 'WM')),\n",
        " (117, 3, ('MDT', 'MSI', 'NWSA', 'NLSN', 'PKI', 'SLB', 'WFC')),\n",
        " (118, 3, ('ADP', 'FTR', 'GME', 'KSS', 'ROK', 'VNO', 'WFM')),\n",
        " (119, 3, ('COF', 'CERN', 'DNB', 'EMN', 'JPM', 'MYL', 'SEE')),\n",
        " (120, 3, ('BLK', 'CTL', 'COH', 'XOM', 'FDO', 'MRK', 'PGR')),\n",
        " (121, 3, ('AME', 'CFN', 'CMS', 'DHI', 'F', 'MYL', 'PVH')),\n",
        " (122, 3, ('FITB', 'GME', 'HOG', 'MHK', 'SIAL', 'SWK', 'TRIP')),\n",
        " (123, 3, ('CHRW', 'GNW', 'MAT', 'NU', 'TRIP', 'VAR', 'WLP')),\n",
        " (124, 3, ('ADT', 'BK', 'ESRX', 'MET', 'PLL', 'PRGO', 'SPLS')),\n",
        " (125, 3, ('CPB', 'DUK', 'EW', 'EMC', 'PSX', 'SYMC', 'UNM')),\n",
        " (126, 3, ('ABBV', 'AES', 'AMAT', 'AZO', 'BXP', 'MSI', 'PPL')),\n",
        " (127, 3, ('ADT', 'APH', 'CHRW', 'KMX', 'CTXS', 'GILD', 'HAS')),\n",
        " (128, 3, ('COG', 'DUK', 'FB', 'IRM', 'LYB', 'THC', 'XEL')),\n",
        " (129, 3, ('APH', 'COST', 'FE', 'GS', 'JPM', 'LEG', 'VMC')),\n",
        " (130, 3, ('AON', 'BBBY', 'BIIB', 'HST', 'IBM', 'RHT', 'SRCL')),\n",
        " (131, 3, ('AN', 'BAC', 'BK', 'EMC', 'MNK', 'MMC', 'MCO')),\n",
        " (132, 3, ('BLL', 'DLTR', 'HPQ', 'HD', 'HRL', 'IPG', 'NFX')),\n",
        " (133, 3, ('MMM', 'ADT', 'AIG', 'BAC', 'ICE', 'MCK', 'TE')),\n",
        " (134, 3, ('ACN', 'AON', 'DG', 'HCP', 'LRCX', 'NUE', 'WFC')),\n",
        " (135, 3, ('APA', 'FISV', 'GCI', 'K', 'VRTX', 'WDC', 'WYNN')),\n",
        " (136, 3, ('AMGN', 'CMCSA', 'NDAQ', 'NTAP', 'NVDA', 'LUV', 'STT')),\n",
        " (137, 3, ('AMG', 'FITB', 'MCO', 'NFX', 'NLSN', 'PHM', 'VRTX')),\n",
        " (138, 3, ('ALLE', 'AMAT', 'CCI', 'GGP', 'MHFI', 'SCHW', 'WFM')),\n",
        " (139, 3, ('AEE', 'BXP', 'IFF', 'KR', 'MAR', 'MOS', 'NEE')),\n",
        " (140, 3, ('AMG', 'COP', 'KORS', 'NTAP', 'NU', 'SE', 'STT')),\n",
        " (141, 3, ('APH', 'DVA', 'DTE', 'GIS', 'GWW', 'PRGO', 'WEC')),\n",
        " (142, 3, ('LM', 'MA', 'NI', 'PCP', 'SPG', 'TSN', 'XLNX')),\n",
        " (143, 3, ('ACN', 'CHRW', 'DLPH', 'D', 'NBL', 'PLL', 'WY')),\n",
        " (144, 3, ('CVX', 'DLTR', 'DOV', 'HRS', 'MKC', 'PFG', 'WFC')),\n",
        " (145, 3, ('BLL', 'CAH', 'HAL', 'JPM', 'MNK', 'ROK', 'TEL')),\n",
        " (146, 3, ('ACT', 'APD', 'HCN', 'LLL', 'MUR', 'NEM', 'NVDA')),\n",
        " (147, 3, ('CAG', 'GILD', 'HP', 'M', 'PKI', 'LUV', 'WMB')),\n",
        " (148, 3, ('AMGN', 'DHR', 'DLTR', 'FIS', 'HCP', 'NFX', 'SE')),\n",
        " (149, 3, ('ADBE', 'DLPH', 'BEN', 'GME', 'PEG', 'TE', 'VLO')),\n",
        " (150, 3, ('AME', 'AON', 'APA', 'STZ', 'JCI', 'VLO', 'XRX')),\n",
        " (151, 3, ('CF', 'CSCO', 'STZ', 'EXPD', 'FCX', 'GCI', 'NOV')),\n",
        " (152, 3, ('DVA', 'DTV', 'FE', 'ICE', 'PWR', 'SYMC', 'VNO')),\n",
        " (153, 3, ('ACE', 'CAT', 'DG', 'HAR', 'KMB', 'PRGO', 'SRE')),\n",
        " (154, 3, ('ABT', 'CINF', 'CL', 'DTE', 'NDAQ', 'PPG', 'RHI')),\n",
        " (155, 3, ('AAPL', 'DO', 'EIX', 'MDLZ', 'NKE', 'PLD', 'SYY')),\n",
        " (156, 3, ('DAL', 'JBL', 'L', 'MSFT', 'RF', 'TWX', 'VRTX')),\n",
        " (157, 3, ('BCR', 'CSCO', 'KO', 'EXPE', 'MWV', 'NLSN', 'TRV')),\n",
        " (158, 3, ('ALLE', 'AMGN', 'HOG', 'KRFT', 'LEN', 'PPG', 'PEG')),\n",
        " (159, 3, ('ACE', 'CVS', 'INTC', 'MTB', 'OKE', 'SPLS', 'UHS')),\n",
        " (160, 3, ('AES', 'BMS', 'CAH', 'CNP', 'FDX', 'GCI', 'GIS')),\n",
        " (161, 3, ('BBBY', 'BIIB', 'BWA', 'IPG', 'JBL', 'PNW', 'SJM')),\n",
        " (162, 3, ('AET', 'DOW', 'GWW', 'NWSA', 'SCHW', 'SE', 'TWC')),\n",
        " (163, 3, ('CHRW', 'CHK', 'LM', 'LOW', 'MCHP', 'TRV', 'WAG')),\n",
        " (164, 3, ('ALLE', 'AMGN', 'ESS', 'ICE', 'REGN', 'SPLS', 'TIF')),\n",
        " (165, 3, ('AXP', 'CAT', 'DAL', 'FTI', 'HOG', 'HSP', 'WMB')),\n",
        " (166, 3, ('AMG', 'BBY', 'BRCM', 'CFN', 'EL', 'ORLY', 'TRV')),\n",
        " (167, 3, ('BLL', 'CI', 'KO', 'ESRX', 'NWL', 'R', 'SE')),\n",
        " (168, 3, ('BWA', 'DLPH', 'FMC', 'LRCX', 'DGX', 'R', 'TJX')),\n",
        " (169, 3, ('BRK-B', 'CPB', 'GRMN', 'GILD', 'HPQ', 'PRU', 'STX')),\n",
        " (170, 3, ('ADBE', 'CSCO', 'DOW', 'F', 'HAR', 'QEP', 'TMO')),\n",
        " (171, 3, ('APH', 'COP', 'GRMN', 'IBM', 'KLAC', 'MAR', 'RL')),\n",
        " (172, 3, ('ABT', 'AEE', 'DE', 'EIX', 'ETR', 'FIS', 'TIF')),\n",
        " (173, 3, ('BA', 'EMC', 'HRS', 'HIG', 'HAS', 'NEM', 'ZTS')),\n",
        " (174, 3, ('BIIB', 'FLIR', 'GOOG', 'NEM', 'TSN', 'UNH', 'YUM')),\n",
        " (175, 3, ('CCL', 'DRI', 'OXY', 'PDCO', 'PAYX', 'TMO', 'XYL')),\n",
        " (176, 3, ('ACN', 'BHI', 'CNX', 'GPS', 'GRMN', 'LYB', 'MDT')),\n",
        " (177, 3, ('BEN', 'MJN', 'NDAQ', 'PRU', 'ROP', 'SYY', 'ZION')),\n",
        " (178, 3, ('CAH', 'CERN', 'D', 'FTI', 'TEG', 'MU', 'PVH')),\n",
        " (179, 3, ('ABT', 'ALL', 'DOV', 'FLR', 'MNK', 'MAS', 'PCAR')),\n",
        " (180, 3, ('AMAT', 'IBM', 'JNPR', 'LYB', 'NBL', 'ORLY', 'UNP')),\n",
        " (181, 3, ('A', 'T', 'CELG', 'GGP', 'MCHP', 'VZ', 'WDC')),\n",
        " (182, 3, ('ADBE', 'AGN', 'PLL', 'QEP', 'SCG', 'THC', 'WFC')),\n",
        " (183, 3, ('FLR', 'FCX', 'FTR', 'JNPR', 'NVDA', 'PAYX', 'TE')),\n",
        " (184, 3, ('GLW', 'CCI', 'ECL', 'HON', 'KORS', 'UA', 'VMC')),\n",
        " (185, 3, ('CME', 'CTSH', 'DLTR', 'HES', 'KMB', 'MOS', 'WHR')),\n",
        " (186, 3, ('AES', 'A', 'CINF', 'INTC', 'LYB', 'SJM', 'TRV')),\n",
        " (187, 3, ('T', 'CMCSA', 'GWW', 'IPG', 'RHT', 'SWK', 'VFC')),\n",
        " (188, 3, ('MMM', 'ACT', 'CBG', 'BEN', 'INTC', 'OMC', 'TSO')),\n",
        " (189, 3, ('ACT', 'AMG', 'CI', 'CTXS', 'EFX', 'HCP', 'LLTC')),\n",
        " (190, 3, ('ALL', 'AMP', 'BIIB', 'FTR', 'PCLN', 'SCG', 'WAG')),\n",
        " (191, 3, ('AA', 'AVP', 'BCR', 'GOOG', 'MCK', 'SEE', 'TJX')),\n",
        " (192, 3, ('AN', 'BMS', 'CME', 'PM', 'ROP', 'SLB', 'UNH')),\n",
        " (193, 3, ('DE', 'GPS', 'MDLZ', 'PDCO', 'SCHW', 'VLO', 'ZION')),\n",
        " (194, 3, ('ALLE', 'ADM', 'CTL', 'KSU', 'MAC', 'MLM', 'SCG')),\n",
        " (195, 3, ('AVGO', 'BF-B', 'ETN', 'LLY', 'LLTC', 'ROST', 'CRM')),\n",
        " (196, 3, ('BMS', 'ESV', 'EXPD', 'FDX', 'GNW', 'LEG', 'ROP')),\n",
        " (197, 3, ('BRCM', 'BF-B', 'CTAS', 'LUK', 'MCHP', 'PM', 'PG')),\n",
        " (198, 3, ('APH', 'AVY', 'BXP', 'ECL', 'KIM', 'RAI', 'SYMC')),\n",
        " (199, 3, ('CELG', 'CTXS', 'ITW', 'UA', 'WMT', 'WDC', 'YUM')),\n",
        " (200, 3, ('AVB', 'ITW', 'KSS', 'MDLZ', 'MUR', 'PNR', 'XRX')),\n",
        " (201, 3, ('AVB', 'GPC', 'KMB', 'NDAQ', 'PEG', 'CRM', 'WAG')),\n",
        " (202, 3, ('CVC', 'CELG', 'FTR', 'LM', 'NBL', 'PG', 'URI')),\n",
        " (203, 3, ('AGN', 'AON', 'XRAY', 'EIX', 'FLR', 'GME', 'WFM')),\n",
        " (204, 3, ('MMM', 'EQR', 'ESS', 'KLAC', 'M', 'PCLN', 'SCHW')),\n",
        " (205, 3, ('AVY', 'BBBY', 'EXPE', 'MHK', 'NOV', 'PBCT', 'PSA')),\n",
        " (206, 3, ('ADM', 'CVC', 'CMS', 'ECL', 'FB', 'IPG', 'MS')),\n",
        " (207, 3, ('CNP', 'CVS', 'EFX', 'FLIR', 'JWN', 'PWR', 'YUM')),\n",
        " (208, 3, ('MO', 'EXC', 'HUM', 'MDLZ', 'ORCL', 'RAI', 'SCHW')),\n",
        " (209, 3, ('AMG', 'APD', 'ETN', 'GPC', 'MTB', 'PCAR', 'PXD')),\n",
        " (210, 3, ('AET', 'CVX', 'FTR', 'INTC', 'RHI', 'SIAL', 'V')),\n",
        " (211, 3, ('AXP', 'BAC', 'DTV', 'HCN', 'IPG', 'MTB', 'WDC')),\n",
        " (212, 3, ('A', 'CINF', 'XRAY', 'GME', 'PX', 'TIF', 'WEC')),\n",
        " (213, 3, ('BEN', 'GME', 'HES', 'LO', 'TAP', 'PAYX', 'UPS')),\n",
        " (214, 3, ('ACN', 'ALLE', 'GCI', 'LLY', 'ORLY', 'PCP', 'PSA')),\n",
        " (215, 3, ('BIIB', 'BF-B', 'MLM', 'PHM', 'SRCL', 'VAR', 'WY')),\n",
        " (216, 3, ('AES', 'DNB', 'PSX', 'TIF', 'TSCO', 'WAT', 'ZMH')),\n",
        " (217, 3, ('EBAY', 'ETR', 'MPC', 'MCO', 'NFX', 'TEL', 'WLP')),\n",
        " (218, 3, ('CF', 'HD', 'NWL', 'PBI', 'PPG', 'COL', 'TSO')),\n",
        " (219, 3, ('AMG', 'AMP', 'BDX', 'CAH', 'LEG', 'MRO', 'MSI')),\n",
        " (220, 3, ('AES', 'CTXS', 'IBM', 'L', 'PCAR', 'QCOM', 'TMK')),\n",
        " (221, 3, ('BLL', 'IR', 'M', 'MCK', 'NWL', 'RHI', 'TGT')),\n",
        " (222, 3, ('AN', 'DTV', 'GRMN', 'IVZ', 'NEE', 'PH', 'SPLS')),\n",
        " (223, 3, ('AME', 'AAPL', 'COST', 'D', 'MRO', 'MAT', 'MRK')),\n",
        " (224, 3, ('BIIB', 'CCL', 'COH', 'EFX', 'GE', 'MLM', 'PCL')),\n",
        " (225, 3, ('APA', 'BK', 'CERN', 'FDO', 'HCBK', 'MET', 'PCP')),\n",
        " (226, 3, ('ABC', 'AMGN', 'EQT', 'PPL', 'ROK', 'TEL', 'UNP')),\n",
        " (227, 3, ('EIX', 'GT', 'LM', 'PNR', 'SYY', 'TEL', 'TE')),\n",
        " (228, 3, ('AKAM', 'ALL', 'BAX', 'DPS', 'FISV', 'FMC', 'MS')),\n",
        " (229, 3, ('EQR', 'HON', 'KEY', 'OMC', 'ROK', 'WMB', 'XLNX')),\n",
        " (230, 3, ('ALTR', 'CNP', 'CSC', 'GPC', 'PSX', 'PCP', 'WMT')),\n",
        " (231, 3, ('AET', 'AFL', 'AME', 'ADSK', 'ESRX', 'GME', 'VLO')),\n",
        " (232, 3, ('AET', 'AMZN', 'LRCX', 'MCD', 'MDT', 'NVDA', 'TWC')),\n",
        " (233, 3, ('AMGN', 'BWA', 'JBL', 'L', 'MCK', 'TMK', 'TRIP')),\n",
        " (234, 3, ('ACT', 'COF', 'EXPE', 'JCI', 'MCK', 'SHW', 'SNA')),\n",
        " (235, 3, ('COV', 'FLIR', 'MA', 'PPL', 'PG', 'TEL', 'TMK')),\n",
        " (236, 3, ('CI', 'XEC', 'CMA', 'DE', 'FITB', 'NLSN', 'CRM')),\n",
        " (237, 3, ('CHRW', 'DTE', 'EBAY', 'IRM', 'MJN', 'SHW', 'SE')),\n",
        " (238, 3, ('CNP', 'CTAS', 'CAG', 'ETN', 'GS', 'NBL', 'SEE')),\n",
        " (239, 3, ('ADSK', 'BBT', 'MAR', 'MHK', 'SNDK', 'TMK', 'VRTX')),\n",
        " (240, 3, ('ACE', 'DHR', 'BEN', 'GNW', 'GS', 'NVDA', 'WIN')),\n",
        " (241, 3, ('MMM', 'ESRX', 'GIS', 'MHFI', 'TIF', 'UNH', 'UHS')),\n",
        " (242, 3, ('AME', 'CPB', 'GIS', 'LYB', 'SHW', 'SNA', 'TRIP')),\n",
        " (243, 3, ('AMGN', 'KO', 'ETR', 'GOOG', 'NEM', 'NTRS', 'NUE')),\n",
        " (244, 3, ('ARG', 'AIV', 'BBBY', 'EMR', 'KRFT', 'PPL', 'VAR')),\n",
        " (245, 3, ('AON', 'CAH', 'MSI', 'NTAP', 'REGN', 'SWN', 'TGT')),\n",
        " (246, 3, ('AMG', 'AA', 'AME', 'CMA', 'HRS', 'HCN', 'PFG')),\n",
        " (247, 3, ('ACT', 'CTSH', 'D', 'KEY', 'L', 'REGN', 'SYK')),\n",
        " (248, 3, ('CMI', 'XOM', 'MPC', 'POM', 'PNC', 'SWK', 'UNH')),\n",
        " (249, 3, ('AET', 'C', 'DOW', 'DNB', 'NLSN', 'NUE', 'PSA')),\n",
        " (250, 3, ('EOG', 'FSLR', 'PETM', 'SRE', 'USB', 'VTR', 'VIAB')),\n",
        " (251, 3, ('CTL', 'CVS', 'LEN', 'MWV', 'SEE', 'UNP', 'VFC')),\n",
        " (252, 3, ('AA', 'FCX', 'GGP', 'KSU', 'KMB', 'MAC', 'VMC')),\n",
        " (253, 3, ('EMR', 'FIS', 'GNW', 'PCL', 'ROP', 'WIN', 'XLNX')),\n",
        " (254, 3, ('BMS', 'D', 'DTE', 'GM', 'GPC', 'TIF', 'VRSN')),\n",
        " (255, 3, ('ABBV', 'APC', 'COG', 'CSC', 'LYB', 'NI', 'QEP')),\n",
        " (256, 3, ('XEC', 'DG', 'EBAY', 'GGP', 'GPC', 'INTU', 'LH')),\n",
        " (257, 3, ('FITB', 'GT', 'HES', 'MA', 'MSFT', 'MS', 'PSA')),\n",
        " (258, 3, ('ADS', 'CPB', 'MRK', 'NWL', 'PBI', 'COL', 'ROST')),\n",
        " (259, 3, ('AVGO', 'BBY', 'CTL', 'EMN', 'ISRG', 'KRFT', 'VTR')),\n",
        " (260, 3, ('COG', 'ECL', 'HD', 'NTRS', 'PX', 'XEL', 'ZTS')),\n",
        " (261, 3, ('DRI', 'DAL', 'KLAC', 'MPC', 'SIAL', 'SPLS', 'USB')),\n",
        " (262, 3, ('COF', 'CB', 'GD', 'MPC', 'KORS', 'NBL', 'TGT')),\n",
        " (263, 3, ('AAPL', 'BAC', 'CL', 'FISV', 'GE', 'LM', 'ROK')),\n",
        " (264, 3, ('ARG', 'CL', 'JNJ', 'MOS', 'QCOM', 'PWR', 'SJM')),\n",
        " (265, 3, ('AIZ', 'BK', 'INTU', 'PLL', 'PCLN', 'SCG', 'WU')),\n",
        " (266, 3, ('AN', 'BBT', 'BMS', 'BLK', 'CPB', 'F', 'TRV')),\n",
        " (267, 3, ('AME', 'GOOG', 'HSY', 'MNK', 'NFX', 'STT', 'SYY')),\n",
        " (268, 3, ('AKAM', 'COG', 'CTAS', 'MJN', 'MOS', 'PDCO', 'URBN')),\n",
        " (269, 3, ('CTL', 'STZ', 'EFX', 'LLTC', 'COL', 'LUV', 'TDC')),\n",
        " (270, 3, ('COP', 'FLR', 'GRMN', 'GILD', 'TEG', 'NAVI', 'SJM')),\n",
        " (271, 3, ('EOG', 'LH', 'MLM', 'MA', 'POM', 'SNDK', 'ZION')),\n",
        " (272, 3, ('BBBY', 'CL', 'XOM', 'JPM', 'KR', 'SEE', 'UNP')),\n",
        " (273, 3, ('DRI', 'FB', 'HRS', 'LEG', 'M', 'PCP', 'STX')),\n",
        " (274, 3, ('AGN', 'CCL', 'CTXS', 'D', 'PX', 'VFC', 'DIS')),\n",
        " (275, 3, ('CAH', 'COH', 'EA', 'MAR', 'TAP', 'SYMC', 'TRIP')),\n",
        " (276, 3, ('A', 'EQT', 'GS', 'NSC', 'ORLY', 'PFG', 'URI')),\n",
        " (277, 3, ('CA', 'COG', 'D', 'JNPR', 'KR', 'NDAQ', 'PEG')),\n",
        " (278, 3, ('AEE', 'AVB', 'BAC', 'CL', 'LOW', 'STI', 'WEC')),\n",
        " (279, 3, ('CI', 'EXC', 'FLR', 'GE', 'PKI', 'PEG', 'URI')),\n",
        " (280, 3, ('BLK', 'CCL', 'ETR', 'KIM', 'NEE', 'POM', 'TWX')),\n",
        " (281, 3, ('APC', 'GLW', 'HAR', 'MCD', 'MET', 'NDAQ', 'PEP')),\n",
        " (282, 3, ('DVN', 'EA', 'ETR', 'GCI', 'GE', 'VFC', 'ZTS')),\n",
        " (283, 3, ('CBG', 'DHR', 'EL', 'NTRS', 'PBI', 'RHI', 'VNO')),\n",
        " (284, 3, ('BBBY', 'DLPH', 'FOSL', 'QEP', 'TXN', 'TMK', 'ZION')),\n",
        " (285, 3, ('ADT', 'JCI', 'NI', 'PXD', 'CRM', 'SNDK', 'V')),\n",
        " (286, 3, ('ADBE', 'ADT', 'ETFC', 'HSY', 'LLY', 'STT', 'UTX')),\n",
        " (287, 3, ('HRS', 'LOW', 'MPC', 'MYL', 'PH', 'PHM', 'USB')),\n",
        " (288, 3, ('AIZ', 'CVC', 'DHR', 'MAT', 'PWR', 'HOT', 'V')),\n",
        " (289, 3, ('AVB', 'CAG', 'DTV', 'FISV', 'IR', 'ROST', 'TDC')),\n",
        " (290, 3, ('MMM', 'AON', 'CAT', 'CERN', 'CSCO', 'MET', 'KORS')),\n",
        " (291, 3, ('EXPD', 'HAL', 'HES', 'HPQ', 'MAT', 'CRM', 'SYY')),\n",
        " (292, 3, ('CAT', 'CMS', 'DHR', 'IVZ', 'MET', 'SHW', 'UNP')),\n",
        " (293, 3, ('DVA', 'DAL', 'EQR', 'FLS', 'IFF', 'MCHP', 'SJM')),\n",
        " (294, 3, ('DISCA', 'DD', 'IR', 'MRO', 'MCK', 'NAVI', 'OMC')),\n",
        " (295, 3, ('BWA', 'CAG', 'DE', 'DISCA', 'HRS', 'HSY', 'VAR')),\n",
        " (296, 3, ('BXP', 'CAM', 'CSCO', 'CNX', 'HUM', 'SEE', 'STI')),\n",
        " (297, 3, ('COV', 'EOG', 'FCX', 'HUM', 'MAC', 'NEE', 'RRC')),\n",
        " (298, 3, ('CA', 'HST', 'HBAN', 'MU', 'MSI', 'NU', 'WU')),\n",
        " (299, 3, ('AVY', 'MSFT', 'PNW', 'RF', 'VIAB', 'V', 'WYN')),\n",
        " (300, 3, ('DNR', 'F', 'HCP', 'PBCT', 'PGR', 'TSCO', 'DIS')),\n",
        " (301, 3, ('DRI', 'EXPD', 'FFIV', 'IBM', 'NI', 'NBL', 'RHI')),\n",
        " (302, 3, ('ALLE', 'ALL', 'EIX', 'KLAC', 'L', 'RTN', 'ZMH')),\n",
        " (303, 3, ('STZ', 'DVA', 'FLIR', 'FCX', 'MET', 'WM', 'WU')),\n",
        " (304, 3, ('ACE', 'GAS', 'CTAS', 'DD', 'FLR', 'OXY', 'SCG')),\n",
        " (305, 3, ('AET', 'AIV', 'CNP', 'CMG', 'D', 'GIS', 'INTU')),\n",
        " (306, 3, ('BMY', 'CB', 'EIX', 'LEG', 'LO', 'ROST', 'DIS')),\n",
        " (307, 3, ('AEE', 'ECL', 'GIS', 'LLY', 'MNK', 'PEG', 'YHOO')),\n",
        " (308, 3, ('AXP', 'T', 'CTL', 'GD', 'MJN', 'OXY', 'RF')),\n",
        " (309, 3, ('CTL', 'FTI', 'HUM', 'PEP', 'PNW', 'PNC', 'WEC')),\n",
        " (310, 3, ('AME', 'CAG', 'GRMN', 'LLTC', 'MSI', 'JWN', 'TRIP')),\n",
        " (311, 3, ('ALLE', 'EW', 'FLS', 'HAL', 'HRL', 'KEY', 'NDAQ')),\n",
        " (312, 3, ('A', 'BMS', 'CAM', 'DHI', 'LLL', 'PCAR', 'VIAB')),\n",
        " (313, 3, ('AET', 'AAPL', 'CPB', 'CHK', 'FFIV', 'JPM', 'SCG')),\n",
        " (314, 3, ('AKAM', 'CHRW', 'CVX', 'HSP', 'RRC', 'TSO', 'TXN')),\n",
        " (315, 3, ('AMG', 'BRK-B', 'HP', 'IVZ', 'JWN', 'PPL', 'STI')),\n",
        " (316, 3, ('AMGN', 'INTU', 'JPM', 'MTB', 'NFX', 'OXY', 'PCG')),\n",
        " (317, 3, ('AEE', 'CAG', 'DRI', 'FLS', 'MDT', 'MUR', 'PSX')),\n",
        " (318, 3, ('ARG', 'CI', 'DE', 'HST', 'IRM', 'ROST', 'TE')),\n",
        " (319, 3, ('AIG', 'CCE', 'DPS', 'PRGO', 'PNC', 'VZ', 'WIN')),\n",
        " (320, 3, ('ALL', 'FIS', 'KMI', 'MHK', 'OMC', 'PNW', 'TJX')),\n",
        " (321, 3, ('COV', 'DVA', 'DISCA', 'FB', 'MRO', 'PCL', 'PCLN')),\n",
        " (322, 3, ('BLL', 'BMY', 'FSLR', 'HD', 'MCHP', 'OKE', 'PM')),\n",
        " (323, 3, ('ESRX', 'FIS', 'FITB', 'M', 'ORLY', 'COL', 'USB')),\n",
        " (324, 3, ('CTAS', 'ESV', 'K', 'LLY', 'LO', 'POM', 'TJX')),\n",
        " (325, 3, ('DVN', 'EBAY', 'NOV', 'NWL', 'PHM', 'TSO', 'TRIP')),\n",
        " (326, 3, ('AMP', 'AMAT', 'CHK', 'DVN', 'KSS', 'PKI', 'VRSN')),\n",
        " (327, 3, ('BSX', 'DUK', 'GPS', 'HAR', 'JCI', 'NDAQ', 'WLP')),\n",
        " (328, 3, ('AMP', 'FMC', 'HSP', 'HUM', 'MAT', 'PWR', 'WMT')),\n",
        " (329, 3, ('FB', 'HCN', 'JWN', 'HOT', 'TMK', 'UNH', 'VIAB')),\n",
        " (330, 3, ('AGN', 'BSX', 'CLX', 'FE', 'TEG', 'QCOM', 'WMB')),\n",
        " (331, 3, ('BAC', 'BK', 'CNX', 'ESV', 'NLSN', 'UPS', 'XYL')),\n",
        " (332, 3, ('GAS', 'CVC', 'ETR', 'NTRS', 'PCP', 'RSG', 'ROK')),\n",
        " (333, 3, ('AES', 'BBBY', 'DAL', 'PGR', 'RF', 'VMC', 'YHOO')),\n",
        " (334, 3, ('APC', 'DAL', 'HBAN', 'MAC', 'NE', 'TSO', 'VZ')),\n",
        " (335, 3, ('EIX', 'EOG', 'INTU', 'ISRG', 'KSS', 'JWN', 'TMK')),\n",
        " (336, 3, ('AA', 'BRCM', 'EMR', 'FITB', 'MAR', 'MRK', 'NEE')),\n",
        " (337, 3, ('AVY', 'CTXS', 'FIS', 'PNR', 'PLD', 'SLB', 'SNA')),\n",
        " (338, 3, ('CHRW', 'NUE', 'PEG', 'ROK', 'COL', 'SRCL', 'TDC')),\n",
        " (339, 3, ('BSX', 'CVC', 'STZ', 'GILD', 'MSI', 'PBI', 'SYY')),\n",
        " (340, 3, ('AES', 'FFIV', 'HPQ', 'KEY', 'MCO', 'ORCL', 'PSX')),\n",
        " (341, 3, ('ADT', 'GAS', 'AZO', 'CSX', 'PSA', 'UA', 'XLNX')),\n",
        " (342, 3, ('ALL', 'BSX', 'BEN', 'HAS', 'NUE', 'QCOM', 'DIS')),\n",
        " (343, 3, ('BIIB', 'DTV', 'INTC', 'ICE', 'KRFT', 'POM', 'SYY')),\n",
        " (344, 3, ('A', 'EOG', 'EXC', 'IP', 'JPM', 'ROST', 'SRE')),\n",
        " (345, 3, ('APC', 'BCR', 'BRK-B', 'GLW', 'MYL', 'TSS', 'RIG')),\n",
        " (346, 3, ('CSC', 'ESV', 'GIS', 'HAS', 'HD', 'ROST', 'WEC')),\n",
        " (347, 3, ('BHI', 'BWA', 'HPQ', 'ICE', 'OXY', 'SJM', 'XL')),\n",
        " (348, 3, ('AMGN', 'CL', 'FAST', 'FIS', 'GGP', 'MMC', 'SYK')),\n",
        " (349, 3, ('CSCO', 'EMC', 'HD', 'PFE', 'SLB', 'WMT', 'YUM')),\n",
        " (350, 3, ('AVY', 'CMS', 'GRMN', 'LYB', 'MCK', 'NWL', 'WAG')),\n",
        " (351, 3, ('GAS', 'AA', 'CME', 'ESV', 'ITW', 'MRK', 'MS')),\n",
        " (352, 3, ('ALLE', 'ALL', 'PEP', 'PKI', 'PPL', 'TRV', 'DIS')),\n",
        " (353, 3, ('AIZ', 'BMS', 'CMCSA', 'DAL', 'HRL', 'UHS', 'WMT')),\n",
        " (354, 3, ('BK', 'BRCM', 'ESRX', 'FITB', 'GRMN', 'JPM', 'NU')),\n",
        " (355, 3, ('CLX', 'DOV', 'EBAY', 'MHK', 'NAVI', 'PCP', 'ZTS')),\n",
        " (356, 3, ('ADT', 'CBS', 'CMCSA', 'MHFI', 'MCO', 'PGR', 'UHS')),\n",
        " (357, 3, ('AKAM', 'CL', 'DOW', 'EXPE', 'FISV', 'NLSN', 'ZTS')),\n",
        " (358, 3, ('ADT', 'LLY', 'MRO', 'MCD', 'MOS', 'ROST', 'RIG')),\n",
        " (359, 3, ('AEE', 'CELG', 'STZ', 'DPS', 'MDLZ', 'SYK', 'FOXA')),\n",
        " (360, 3, ('CMA', 'GRMN', 'HAR', 'MAC', 'MCK', 'SRCL', 'TE')),\n",
        " (361, 3, ('CCL', 'HST', 'LOW', 'MDLZ', 'NBL', 'PSX', 'STT')),\n",
        " (362, 3, ('AMP', 'EFX', 'FB', 'MU', 'SLB', 'SJM', 'WDC')),\n",
        " (363, 3, ('BRK-B', 'CNP', 'CVX', 'MNST', 'MS', 'NKE', 'NI')),\n",
        " (364, 3, ('AAPL', 'FSLR', 'IP', 'PDCO', 'PCL', 'PVH', 'STX')),\n",
        " (365, 3, ('ADSK', 'HAS', 'KRFT', 'MSI', 'MUR', 'PAYX', 'PX')),\n",
        " (366, 3, ('ABC', 'BDX', 'CAG', 'EA', 'HSP', 'PPG', 'DIS')),\n",
        " (367, 3, ('CTSH', 'DPS', 'FIS', 'GNW', 'MCO', 'PBI', 'TROW')),\n",
        " (368, 3, ('AGN', 'BBY', 'CHRW', 'CMI', 'MON', 'SYY', 'TROW')),\n",
        " (369, 3, ('CTSH', 'COV', 'CSX', 'DNB', 'EMR', 'GIS', 'WAG')),\n",
        " (370, 3, ('MO', 'APH', 'BWA', 'INTU', 'PKI', 'RF', 'VRTX')),\n",
        " (371, 3, ('AA', 'CLX', 'CCI', 'EMC', 'NUE', 'SCHW', 'SNI')),\n",
        " (372, 3, ('DOW', 'EQT', 'GOOG', 'MAR', 'PEG', 'USB', 'VRSN')),\n",
        " (373, 3, ('GLW', 'EL', 'HSP', 'NLSN', 'PNW', 'SJM', 'TIF')),\n",
        " (374, 3, ('CSX', 'DG', 'IPG', 'LOW', 'NWSA', 'WYNN', 'XLNX')),\n",
        " (375, 3, ('AXP', 'CF', 'CAG', 'XRAY', 'MET', 'PX', 'QEP')),\n",
        " (376, 3, ('BWA', 'FLR', 'MCHP', 'LUV', 'VZ', 'WEC', 'XYL')),\n",
        " (377, 3, ('AMZN', 'BRCM', 'CMS', 'ECL', 'KLAC', 'MET', 'VLO')),\n",
        " (378, 3, ('ABT', 'AMAT', 'CVX', 'CMI', 'EMC', 'HSY', 'ORCL')),\n",
        " (379, 3, ('APA', 'BWA', 'CPB', 'CLX', 'BEN', 'PM', 'TROW')),\n",
        " (380, 3, ('A', 'APA', 'CINF', 'JNPR', 'LMT', 'NRG', 'SRE')),\n",
        " (381, 3, ('BLL', 'FMC', 'GGP', 'NRG', 'STJ', 'VIAB', 'WHR')),\n",
        " (382, 3, ('AMG', 'COP', 'INTU', 'KMI', 'M', 'RTN', 'REGN')),\n",
        " (383, 3, ('ADSK', 'CMG', 'GCI', 'HUM', 'OMC', 'UNH', 'WMT')),\n",
        " (384, 3, ('ADI', 'BXP', 'CF', 'DNB', 'L', 'MCO', 'ROP')),\n",
        " (385, 3, ('CHRW', 'CAM', 'CERN', 'CMS', 'NVDA', 'SLB', 'VIAB')),\n",
        " (386, 3, ('GAS', 'APH', 'DFS', 'LLL', 'NLSN', 'SPG', 'WDC')),\n",
        " (387, 3, ('BDX', 'CBS', 'GT', 'NSC', 'STJ', 'TSS', 'WM')),\n",
        " (388, 3, ('ADT', 'MRK', 'PFE', 'PCL', 'PG', 'RRC', 'SRCL')),\n",
        " (389, 3, ('CAT', 'CBS', 'JNJ', 'ORCL', 'PNR', 'SCG', 'URI')),\n",
        " (390, 3, ('GAS', 'BRK-B', 'FDO', 'MCK', 'SCHW', 'UNH', 'XL')),\n",
        " (391, 3, ('CFN', 'CB', 'DOW', 'FDX', 'LEN', 'MCD', 'VTR')),\n",
        " (392, 3, ('FE', 'F', 'HAL', 'IPG', 'ORLY', 'POM', 'UA')),\n",
        " (393, 3, ('BWA', 'BXP', 'CSCO', 'DVN', 'DLTR', 'IR', 'WHR')),\n",
        " (394, 3, ('CBS', 'DD', 'K', 'MU', 'NAVI', 'PNW', 'TSN')),\n",
        " (395, 3, ('AIZ', 'CBG', 'COST', 'DTV', 'LEG', 'NRG', 'PPG')),\n",
        " (396, 3, ('BAX', 'CL', 'DLPH', 'ESV', 'FMC', 'KSS', 'MCD')),\n",
        " (397, 3, ('ALXN', 'CNX', 'PFG', 'PHM', 'RL', 'RF', 'RIG')),\n",
        " (398, 3, ('AXP', 'ADM', 'COH', 'CTSH', 'CSX', 'DLTR', 'JNPR')),\n",
        " (399, 3, ('CPB', 'XEC', 'HCP', 'OKE', 'PX', 'STX', 'TXN')),\n",
        " (400, 3, ('ADBE', 'A', 'CSC', 'COST', 'PNW', 'PRU', 'ZTS')),\n",
        " (401, 3, ('BAX', 'CCL', 'CAT', 'EOG', 'ICE', 'INTU', 'SE')),\n",
        " (402, 3, ('BMS', 'CAT', 'EW', 'GME', 'IVZ', 'MU', 'WHR')),\n",
        " (403, 3, ('ADS', 'BMY', 'HES', 'PH', 'POM', 'PWR', 'WU')),\n",
        " (404, 3, ('COG', 'TEG', 'JEC', 'MWV', 'PFE', 'RHI', 'XRX')),\n",
        " (405, 3, ('DE', 'XRAY', 'GM', 'PWR', 'SE', 'WU', 'WHR')),\n",
        " (406, 3, ('ALTR', 'AON', 'AMAT', 'EA', 'MCD', 'QCOM', 'TEL')),\n",
        " (407, 3, ('A', 'BAC', 'CI', 'EQR', 'GD', 'ISRG', 'MTB')),\n",
        " (408, 3, ('APH', 'APA', 'FISV', 'BEN', 'STJ', 'WM', 'WY')),\n",
        " (409, 3, ('AXP', 'NTAP', 'NEM', 'RAI', 'RHI', 'SE', 'TSN')),\n",
        " (410, 3, ('AVB', 'COG', 'CNP', 'CHK', 'JNPR', 'KR', 'RRC')),\n",
        " (411, 3, ('AXP', 'ADI', 'BHI', 'PKI', 'PFG', 'RTN', 'SCG')),\n",
        " (412, 3, ('CMCSA', 'FSLR', 'LYB', 'NSC', 'PHM', 'ROST', 'LUV')),\n",
        " (413, 3, ('STZ', 'EFX', 'FITB', 'GT', 'VRTX', 'V', 'WHR')),\n",
        " (414, 3, ('AET', 'DUK', 'EMR', 'NDAQ', 'SRCL', 'URBN', 'VRSN')),\n",
        " (415, 3, ('BBY', 'CA', 'DAL', 'DO', 'FLS', 'LLY', 'MMC')),\n",
        " (416, 3, ('ALLE', 'CAH', 'DE', 'DOW', 'ETN', 'MNST', 'NRG')),\n",
        " (417, 3, ('AET', 'ALXN', 'AMGN', 'CBS', 'DUK', 'JNJ', 'MRO')),\n",
        " (418, 3, ('CCI', 'FIS', 'MWV', 'PG', 'RHI', 'CRM', 'URBN')),\n",
        " (419, 3, ('AMAT', 'DLTR', 'HRS', 'HP', 'LUK', 'NU', 'XEL')),\n",
        " (420, 3, ('AIZ', 'CAH', 'COP', 'TAP', 'NAVI', 'SPG', 'V')),\n",
        " (421, 3, ('CCL', 'HES', 'KMB', 'MCO', 'SNA', 'TDC', 'URBN')),\n",
        " (422, 3, ('APH', 'DHR', 'PCAR', 'PKI', 'RF', 'VTR', 'VRSN')),\n",
        " (423, 3, ('AON', 'COF', 'DTV', 'ESV', 'GCI', 'ITW', 'YUM')),\n",
        " (424, 3, ('EXPD', 'IFF', 'MYL', 'OMC', 'PEG', 'URI', 'XYL')),\n",
        " (425, 3, ('ALXN', 'CSCO', 'CMS', 'CCI', 'EOG', 'NTRS', 'PSX')),\n",
        " (426, 3, ('BLK', 'CSX', 'HSP', 'MKC', 'PCAR', 'TSO', 'XL')),\n",
        " (427, 3, ('FIS', 'FOSL', 'LH', 'CRM', 'TE', 'TMO', 'WDC')),\n",
        " (428, 3, ('ABBV', 'ALXN', 'MAC', 'NOV', 'NRG', 'PCG', 'VFC')),\n",
        " (429, 3, ('AES', 'CPB', 'COST', 'HSP', 'HBAN', 'GMCR', 'SPG')),\n",
        " (430, 3, ('BRK-B', 'KO', 'ITW', 'LNC', 'MWV', 'MET', 'SWY')),\n",
        " (431, 3, ('ALLE', 'CCL', 'HSY', 'ICE', 'IFF', 'OKE', 'PVH')),\n",
        " (432, 3, ('APD', 'ADI', 'BDX', 'GM', 'IFF', 'SRCL', 'VTR')),\n",
        " (433, 3, ('CPB', 'DLTR', 'DOW', 'IRM', 'LMT', 'SHW', 'WAT')),\n",
        " (434, 3, ('ALXN', 'APA', 'KMX', 'COH', 'PPL', 'RAI', 'WAT')),\n",
        " (435, 3, ('CL', 'DOW', 'DNB', 'EFX', 'PCAR', 'TE', 'ZTS')),\n",
        " (436, 3, ('AMT', 'FLIR', 'HSY', 'MHFI', 'KORS', 'ROP', 'WEC')),\n",
        " (437, 3, ('DAL', 'LLTC', 'MDLZ', 'PM', 'SCG', 'URBN', 'WEC')),\n",
        " (438, 3, ('BA', 'LO', 'LOW', 'M', 'COL', 'STX', 'TRV')),\n",
        " (439, 3, ('AEE', 'ESV', 'EXC', 'HES', 'KEY', 'OKE', 'QEP')),\n",
        " (440, 3, ('AEE', 'AIZ', 'BBBY', 'EIX', 'F', 'HUM', 'MCK')),\n",
        " (441, 3, ('AZO', 'CLX', 'DVN', 'BEN', 'HST', 'NOV', 'VLO')),\n",
        " (442, 3, ('ACT', 'D', 'HSP', 'INTC', 'LRCX', 'PCL', 'VFC')),\n",
        " (443, 3, ('ABT', 'FAST', 'FLS', 'IVZ', 'PCP', 'SNDK', 'WDC')),\n",
        " (444, 3, ('ADP', 'D', 'FDO', 'K', 'MA', 'PBCT', 'LUV')),\n",
        " (445, 3, ('CMI', 'ETFC', 'EXPD', 'MON', 'NVDA', 'RHI', 'TWC')),\n",
        " (446, 3, ('A', 'CVS', 'HD', 'LEN', 'PBI', 'WEC', 'XL')),\n",
        " (447, 3, ('AMAT', 'CI', 'CCE', 'FLIR', 'HAL', 'ITW', 'PNR')),\n",
        " (448, 3, ('AES', 'XEC', 'ESV', 'HST', 'KIM', 'PM', 'TXT')),\n",
        " (449, 3, ('XRAY', 'HON', 'NAVI', 'PPL', 'PSA', 'SNI', 'STI')),\n",
        " (450, 3, ('BLL', 'BRK-B', 'CVC', 'KO', 'EQR', 'NBR', 'PRU')),\n",
        " (451, 3, ('BBBY', 'CI', 'D', 'MDLZ', 'SHW', 'UNM', 'URBN')),\n",
        " (452, 3, ('FIS', 'HP', 'MAR', 'MJN', 'RHT', 'LUV', 'VLO')),\n",
        " (453, 3, ('AMGN', 'CA', 'DNB', 'MDT', 'NE', 'PETM', 'WAG')),\n",
        " (454, 3, ('BAX', 'BSX', 'EMR', 'FCX', 'HST', 'TEG', 'KLAC')),\n",
        " (455, 3, ('FISV', 'HAS', 'INTC', 'MKC', 'PCAR', 'PAYX', 'STT')),\n",
        " (456, 3, ('ALTR', 'BRCM', 'DHI', 'EA', 'LLY', 'MON', 'V')),\n",
        " (457, 3, ('COV', 'EOG', 'FTI', 'GME', 'JCI', 'KEY', 'MSFT')),\n",
        " (458, 3, ('AON', 'FDO', 'NDAQ', 'PBI', 'QCOM', 'SCG', 'TRV')),\n",
        " (459, 3, ('MMM', 'APD', 'KEY', 'LM', 'MAR', 'MDT', 'TE')),\n",
        " (460, 3, ('CVS', 'DRI', 'EMN', 'ETR', 'GILD', 'PNR', 'UNP')),\n",
        " (461, 3, ('BAX', 'BWA', 'BMY', 'GM', 'IFF', 'MCK', 'FOXA')),\n",
        " (462, 3, ('BHI', 'CTL', 'COH', 'CSC', 'HOG', 'PETM', 'SWK')),\n",
        " (463, 3, ('CCI', 'F', 'JNJ', 'MON', 'QCOM', 'V', 'WYN')),\n",
        " (464, 3, ('AMG', 'BLL', 'CMCSA', 'MCO', 'STX', 'STJ', 'V')),\n",
        " (465, 3, ('ABT', 'GAS', 'CELG', 'HAL', 'MOS', 'UA', 'XLNX')),\n",
        " (466, 3, ('ADP', 'DO', 'EBAY', 'EXPD', 'FLS', 'KMI', 'MON')),\n",
        " (467, 3, ('HBAN', 'KSS', 'PNR', 'PCLN', 'PGR', 'PRU', 'DIS')),\n",
        " (468, 3, ('AVGO', 'CFN', 'GME', 'MPC', 'MKC', 'SO', 'VMC')),\n",
        " (469, 3, ('AET', 'CA', 'GE', 'GS', 'HCN', 'NFLX', 'NE')),\n",
        " (470, 3, ('CL', 'GE', 'GWW', 'HSP', 'LRCX', 'PPL', 'WM')),\n",
        " (471, 3, ('AKAM', 'COP', 'DE', 'HIG', 'KEY', 'PWR', 'STI')),\n",
        " (472, 3, ('BRCM', 'BF-B', 'KSS', 'MPC', 'PBCT', 'PG', 'SYMC')),\n",
        " (473, 3, ('AET', 'BF-B', 'CERN', 'XRAY', 'PWR', 'SNDK', 'TSS')),\n",
        " (474, 3, ('AZO', 'CAG', 'IPG', 'JEC', 'R', 'SYK', 'VRTX')),\n",
        " (475, 3, ('AET', 'CHRW', 'COH', 'EA', 'LRCX', 'MMC', 'PCLN')),\n",
        " (476, 3, ('AMT', 'CELG', 'FOSL', 'LEG', 'PNR', 'PBCT', 'UHS')),\n",
        " (477, 3, ('ADI', 'CSCO', 'EIX', 'EXPD', 'GT', 'GWW', 'MUR')),\n",
        " (478, 3, ('AAPL', 'CSCO', 'EMN', 'MNST', 'MS', 'PG', 'SO')),\n",
        " (479, 3, ('HD', 'KMI', 'MA', 'SNDK', 'SRE', 'UNP', 'XYL')),\n",
        " (480, 3, ('AVY', 'BBY', 'ECL', 'EFX', 'MNST', 'HOT', 'TDC')),\n",
        " (481, 3, ('BCR', 'DISCA', 'NKE', 'PCG', 'PNW', 'VAR', 'WY')),\n",
        " (482, 3, ('CI', 'COV', 'INTU', 'NEE', 'PFE', 'URI', 'WYN')),\n",
        " (483, 3, ('CAM', 'GIS', 'PXD', 'PFG', 'PWR', 'SO', 'RIG')),\n",
        " (484, 3, ('BMY', 'COV', 'ESRX', 'GWW', 'LLL', 'MJN', 'USB')),\n",
        " (485, 3, ('APH', 'EXPD', 'HAR', 'LRCX', 'LLTC', 'NKE', 'TMO')),\n",
        " (486, 3, ('AKAM', 'CME', 'FSLR', 'GRMN', 'NBR', 'NAVI', 'YHOO')),\n",
        " (487, 3, ('ALXN', 'MO', 'BMY', 'FDX', 'KRFT', 'NLSN', 'RHT')),\n",
        " (488, 3, ('AMP', 'DRI', 'DPS', 'FTI', 'MSI', 'PVH', 'SCHW')),\n",
        " (489, 3, ('AON', 'BIIB', 'HSY', 'KEY', 'KMB', 'KRFT', 'MET')),\n",
        " (490, 3, ('CNP', 'DISCA', 'EA', 'GCI', 'GWW', 'MU', 'TSN')),\n",
        " (491, 3, ('CAH', 'GPS', 'IP', 'KR', 'LLL', 'MKC', 'NAVI')),\n",
        " (492, 3, ('AA', 'ADI', 'CHRW', 'EXC', 'HSY', 'KORS', 'UA')),\n",
        " (493, 3, ('CVX', 'GCI', 'LLTC', 'LO', 'TAP', 'MON', 'PX')),\n",
        " (494, 3, ('AMZN', 'COV', 'DG', 'DLTR', 'DUK', 'LNC', 'PRGO')),\n",
        " (495, 3, ('ACT', 'GNW', 'GWW', 'ICE', 'MHFI', 'PG', 'SEE')),\n",
        " (496, 3, ('COF', 'DISCA', 'EFX', 'JNJ', 'OXY', 'PFE', 'STT')),\n",
        " (497, 3, ('BMS', 'ETN', 'FDX', 'F', 'GM', 'HRL', 'ROP')),\n",
        " (498, 3, ('CAH', 'EOG', 'HON', 'LLL', 'MAR', 'VRSN', 'ZTS')),\n",
        " (499, 3, ('FMC', 'HSY', 'MON', 'PFE', 'VIAB', 'WLP', 'XL')),\n",
        " (500, 3, ('EMN', 'FSLR', 'LEG', 'ROP', 'CRM', 'TJX', 'UNM')),\n",
        " (501, 3, ('BLK', 'CTSH', 'EQT', 'EQR', 'FAST', 'MYL', 'PETM')),\n",
        " (502, 3, ('CBS', 'FIS', 'GRMN', 'LUK', 'SNA', 'TE', 'XRX')),\n",
        " (503, 3, ('BCR', 'CL', 'GLW', 'DNB', 'HAR', 'PFG', 'DIS')),\n",
        " (504, 3, ('ADI', 'APA', 'AN', 'DPS', 'HIG', 'MCK', 'NRG')),\n",
        " (505, 3, ('CMS', 'GPS', 'GRMN', 'GOOG', 'NTRS', 'SE', 'WEC')),\n",
        " (506, 3, ('AIZ', 'BAX', 'BMS', 'FMC', 'MSFT', 'SYMC', 'WMB')),\n",
        " (507, 3, ('APD', 'APA', 'XRAY', 'NWL', 'NSC', 'NOC', 'WHR')),\n",
        " (508, 3, ('CINF', 'FB', 'HIG', 'HSP', 'KR', 'MYL', 'RL')),\n",
        " (509, 3, ('ARG', 'GME', 'HON', 'HST', 'OKE', 'SWN', 'YHOO')),\n",
        " (510, 3, ('ABBV', 'BWA', 'CI', 'EXPE', 'FE', 'PLD', 'TWC')),\n",
        " (511, 3, ('COST', 'DFS', 'EW', 'FLR', 'NEE', 'PLL', 'PLD')),\n",
        " (512, 3, ('DVA', 'FITB', 'FOSL', 'JEC', 'KLAC', 'DGX', 'RHI')),\n",
        " (513, 3, ('ADS', 'CVX', 'INTC', 'LNC', 'REGN', 'SCG', 'TDC')),\n",
        " (514, 3, ('CPB', 'CSC', 'ITW', 'NEM', 'SYY', 'WMT', 'WFM')),\n",
        " (515, 3, ('BAC', 'BCR', 'DAL', 'DLTR', 'HRS', 'HES', 'XEL')),\n",
        " (516, 3, ('CVX', 'CINF', 'FAST', 'NWSA', 'RL', 'SNI', 'SYK')),\n",
        " (517, 3, ('AIG', 'BBT', 'CBG', 'FSLR', 'NAVI', 'NEE', 'POM')),\n",
        " (518, 3, ('CMS', 'CMA', 'FSLR', 'FCX', 'NTRS', 'PDCO', 'SWK')),\n",
        " (519, 3, ('CME', 'GLW', 'EBAY', 'GD', 'MAC', 'MCO', 'WHR')),\n",
        " (520, 3, ('GAS', 'CMG', 'CB', 'GE', 'GPC', 'NOV', 'UTX')),\n",
        " (521, 3, ('BLL', 'DG', 'FLS', 'ICE', 'KIM', 'KORS', 'TIF')),\n",
        " (522, 3, ('LLTC', 'NTAP', 'RF', 'LUV', 'TEL', 'WHR', 'YHOO')),\n",
        " (523, 3, ('ALXN', 'AEP', 'D', 'LNC', 'MYL', 'TEL', 'WY')),\n",
        " (524, 3, ('CNX', 'FDX', 'LO', 'MAT', 'MKC', 'MET', 'WY')),\n",
        " (525, 3, ('ACE', 'AN', 'MPC', 'MCO', 'PHM', 'STI', 'XRX')),\n",
        " (526, 3, ('CB', 'CSC', 'HSY', 'NFX', 'RSG', 'UPS', 'ZTS')),\n",
        " (527, 3, ('ALTR', 'AME', 'DHI', 'LMT', 'NBR', 'PBCT', 'PFG')),\n",
        " (528, 3, ('ACN', 'COP', 'CCI', 'DLTR', 'EMC', 'MLM', 'WDC')),\n",
        " (529, 3, ('COP', 'INTU', 'JNPR', 'NEM', 'NE', 'SJM', 'WAG')),\n",
        " (530, 3, ('BHI', 'CTL', 'DAL', 'HIG', 'KMB', 'UNM', 'VNO')),\n",
        " (531, 3, ('AKAM', 'CELG', 'CMI', 'DAL', 'DOW', 'FB', 'MCO')),\n",
        " (532, 3, ('EBAY', 'FISV', 'FCX', 'INTU', 'JNPR', 'NRG', 'SLB')),\n",
        " (533, 3, ('BRCM', 'EBAY', 'GNW', 'INTC', 'LUV', 'XRX', 'XYL')),\n",
        " (534, 3, ('CAT', 'EQR', 'HD', 'IRM', 'KSS', 'SPG', 'XLNX')),\n",
        " (535, 3, ('AGN', 'AAPL', 'COG', 'COH', 'M', 'UHS', 'WU')),\n",
        " (536, 3, ('ADM', 'BBY', 'CBS', 'SRE', 'TIF', 'VTR', 'WYN')),\n",
        " (537, 3, ('BBY', 'CVS', 'EMN', 'HST', 'PSX', 'SWY', 'UNP')),\n",
        " (538, 3, ('CF', 'FCX', 'HAR', 'LO', 'PPG', 'SYK', 'TIF')),\n",
        " (539, 3, ('CPB', 'FITB', 'HUM', 'LUK', 'NUE', 'SIAL', 'WYNN')),\n",
        " (540, 3, ('MMM', 'AVGO', 'BCR', 'GE', 'SLB', 'SNI', 'HOT')),\n",
        " (541, 3, ('AMP', 'COV', 'EIX', 'KIM', 'NOC', 'PDCO', 'RF')),\n",
        " (542, 3, ('ARG', 'ALLE', 'CNP', 'CME', 'ITW', 'MMC', 'NFLX')),\n",
        " (543, 3, ('CAT', 'ESS', 'FLR', 'LMT', 'PPG', 'SPG', 'STT')),\n",
        " (544, 3, ('A', 'EIX', 'GT', 'PSX', 'RL', 'RSG', 'WHR')),\n",
        " (545, 3, ('BBY', 'CSCO', 'CMA', 'GS', 'HSY', 'MMC', 'WLP')),\n",
        " (546, 3, ('CBG', 'DLTR', 'ETFC', 'EMR', 'HCP', 'LLTC', 'NBL')),\n",
        " (547, 3, ('BLL', 'DG', 'HP', 'JNPR', 'LLY', 'QEP', 'VRSN')),\n",
        " (548, 3, ('AVGO', 'BRCM', 'EMN', 'FLS', 'HRS', 'SE', 'VZ')),\n",
        " (549, 3, ('AEE', 'AZO', 'BK', 'NWSA', 'PCAR', 'SRE', 'WEC')),\n",
        " (550, 3, ('CINF', 'ETR', 'EXC', 'FIS', 'PCL', 'TXN', 'UNM')),\n",
        " (551, 3, ('BSX', 'XRAY', 'DPS', 'ESRX', 'HRL', 'OKE', 'PBCT')),\n",
        " (552, 3, ('DVA', 'GCI', 'HD', 'KMI', 'PCP', 'VMC', 'WIN')),\n",
        " (553, 3, ('BAC', 'BRK-B', 'FLS', 'F', 'ISRG', 'MOS', 'PPG')),\n",
        " (554, 3, ('A', 'CINF', 'DVA', 'XOM', 'HRS', 'SPLS', 'WHR')),\n",
        " (555, 3, ('AMG', 'LRCX', 'MNK', 'MJN', 'MU', 'MNST', 'PEG')),\n",
        " (556, 3, ('CELG', 'CF', 'FLIR', 'HPQ', 'MCK', 'NTAP', 'SBUX')),\n",
        " (557, 3, ('BCR', 'CAG', 'DPS', 'DNB', 'HP', 'V', 'WEC')),\n",
        " (558, 3, ('AMP', 'AZO', 'C', 'EQT', 'FOSL', 'SPLS', 'WEC')),\n",
        " (559, 3, ('GPC', 'HSY', 'IFF', 'NAVI', 'PRU', 'STJ', 'TSCO')),\n",
        " (560, 3, ('BXP', 'HSY', 'MA', 'PDCO', 'PFE', 'XLNX', 'XYL')),\n",
        " (561, 3, ('DNR', 'DISCA', 'MHFI', 'MHK', 'NWSA', 'RHT', 'SBUX')),\n",
        " (562, 3, ('BBBY', 'EMC', 'PAYX', 'RAI', 'UNM', 'WDC', 'WHR')),\n",
        " (563, 3, ('ARG', 'CMA', 'DAL', 'HCN', 'HST', 'KIM', 'ORCL')),\n",
        " (564, 3, ('AES', 'CTXS', 'SWK', 'TMO', 'FOXA', 'UA', 'V')),\n",
        " (565, 3, ('ACN', 'DO', 'DISCA', 'JCI', 'L', 'MU', 'PM')),\n",
        " (566, 3, ('CNP', 'FLS', 'HON', 'ITW', 'LEN', 'OXY', 'UPS')),\n",
        " (567, 3, ('CFN', 'EMR', 'JBL', 'MHFI', 'PVH', 'TIF', 'WYNN')),\n",
        " (568, 3, ('AIZ', 'BWA', 'CINF', 'CLX', 'DLPH', 'DISCA', 'NUE')),\n",
        " (569, 3, ('ABBV', 'ETN', 'FLS', 'M', 'NU', 'TJX', 'WLP')),\n",
        " (570, 3, ('GAS', 'AKAM', 'FITB', 'MAS', 'CRM', 'TE', 'WAG')),\n",
        " (571, 3, ('ECL', 'ESV', 'MAC', 'MCO', 'MUR', 'URBN', 'VZ')),\n",
        " (572, 3, ('AKAM', 'CNP', 'GOOG', 'INTU', 'GMCR', 'MDLZ', 'NOV')),\n",
        " (573, 3, ('AVY', 'CSCO', 'GGP', 'GOOG', 'HCBK', 'MU', 'UNP')),\n",
        " (574, 3, ('AMG', 'CMA', 'HAR', 'NBR', 'ORCL', 'WIN', 'WEC')),\n",
        " (575, 3, ('ABC', 'GRMN', 'HON', 'MWV', 'MU', 'NKE', 'RHT')),\n",
        " (576, 3, ('LLL', 'TROW', 'TE', 'UNH', 'UHS', 'VMC', 'WFC')),\n",
        " (577, 3, ('AMZN', 'MOS', 'NOV', 'NBL', 'NRG', 'STX', 'TSO')),\n",
        " (578, 3, ('GAS', 'JNJ', 'MRO', 'MJN', 'NE', 'PFG', 'PGR')),\n",
        " (579, 3, ('CELG', 'ED', 'COST', 'MYL', 'NFLX', 'PAYX', 'SBUX')),\n",
        " (580, 3, ('COG', 'HIG', 'NSC', 'LUV', 'SYY', 'RIG', 'WDC')),\n",
        " (581, 3, ('CTAS', 'GILD', 'HIG', 'ITW', 'JBL', 'JWN', 'URBN')),\n",
        " (582, 3, ('ABT', 'CERN', 'XOM', 'GCI', 'GMCR', 'KLAC', 'LM')),\n",
        " (583, 3, ('AMP', 'DHI', 'D', 'XOM', 'SPG', 'SPLS', 'WAT')),\n",
        " (584, 3, ('APC', 'AVP', 'CTXS', 'HIG', 'KEY', 'NVDA', 'ZMH')),\n",
        " (585, 3, ('ARG', 'BDX', 'FTI', 'MJN', 'RIG', 'UNM', 'XRX')),\n",
        " (586, 3, ('CNP', 'NLSN', 'PLL', 'PEP', 'PM', 'PPG', 'TGT')),\n",
        " (587, 3, ('FLR', 'HUM', 'KSU', 'SNA', 'TEL', 'TXN', 'ZMH')),\n",
        " (588, 3, ('GAS', 'CB', 'C', 'EA', 'EOG', 'KRFT', 'XL')),\n",
        " (589, 3, ('CSCO', 'CNX', 'FSLR', 'HAR', 'IBM', 'STT', 'VFC')),\n",
        " (590, 3, ('KO', 'DUK', 'ETFC', 'ICE', 'IPG', 'UNH', 'WAG')),\n",
        " (591, 3, ('JNPR', 'MCHP', 'NWL', 'NBL', 'PFE', 'XEL', 'XL')),\n",
        " (592, 3, ('AFL', 'DAL', 'FLR', 'OXY', 'PAYX', 'RSG', 'SWY')),\n",
        " (593, 3, ('AET', 'AGN', 'MO', 'BWA', 'CBG', 'FE', 'RTN')),\n",
        " (594, 3, ('MO', 'BRCM', 'LB', 'L', 'MA', 'MDT', 'TMO')),\n",
        " (595, 3, ('CHRW', 'ED', 'EW', 'NFLX', 'NOC', 'ROK', 'ROP')),\n",
        " (596, 3, ('AON', 'ADSK', 'BDX', 'CVS', 'EXPE', 'IBM', 'NEE')),\n",
        " (597, 3, ('AFL', 'CNP', 'EL', 'HSP', 'NKE', 'TWC', 'WHR')),\n",
        " (598, 3, ('BDX', 'HCBK', 'MA', 'JWN', 'SE', 'DIS', 'WEC')),\n",
        " (599, 3, ('CPB', 'CMCSA', 'EQT', 'MA', 'MNST', 'SRE', 'TSO')),\n",
        " (600, 3, ('ADT', 'CSX', 'LB', 'MWV', 'PPL', 'PLD', 'FOXA')),\n",
        " (601, 3, ('CMCSA', 'DNR', 'KEY', 'MAT', 'PM', 'TE', 'UNP')),\n",
        " (602, 3, ('LMT', 'PM', 'PHM', 'RSG', 'VLO', 'VAR', 'VFC')),\n",
        " (603, 3, ('ALLE', 'BDX', 'HAL', 'HRL', 'SHW', 'WLP', 'XYL')),\n",
        " (604, 3, ('BRCM', 'C', 'FLR', 'JBL', 'MU', 'SCHW', 'DIS')),\n",
        " (605, 3, ('A', 'AVP', 'CSC', 'EXPD', 'MHK', 'ROP', 'ZMH')),\n",
        " (606, 3, ('ACT', 'BLK', 'CB', 'CNX', 'RTN', 'TXT', 'TSS')),\n",
        " (607, 3, ('BCR', 'EOG', 'FTR', 'HPQ', 'FOXA', 'VAR', 'WAT')),\n",
        " (608, 3, ('CPB', 'D', 'DOW', 'GCI', 'JCI', 'OKE', 'ORCL')),\n",
        " (609, 3, ('MMM', 'DOV', 'GE', 'HSY', 'KSS', 'KRFT', 'SYK')),\n",
        " (610, 3, ('AGN', 'EXPE', 'JBL', 'KMB', 'NAVI', 'RF', 'USB')),\n",
        " (611, 3, ('AVY', 'DRI', 'HAR', 'NRG', 'PLD', 'RAI', 'VFC')),\n",
        " (612, 3, ('T', 'BBY', 'CHRW', 'CTL', 'FDX', 'FTR', 'IVZ')),\n",
        " (613, 3, ('FITB', 'GOOG', 'IR', 'JPM', 'MAR', 'NRG', 'WDC')),\n",
        " (614, 3, ('EMC', 'EQR', 'IPG', 'MHFI', 'PSX', 'ZMH', 'ZTS')),\n",
        " (615, 3, ('ABT', 'FDX', 'HAS', 'IR', 'MAS', 'RHI', 'UHS')),\n",
        " (616, 3, ('ALTR', 'CNP', 'DTE', 'MNST', 'MYL', 'PLD', 'WAT')),\n",
        " (617, 3, ('BK', 'CMA', 'STZ', 'MAT', 'MRK', 'PM', 'UA')),\n",
        " (618, 3, ('CLX', 'HPQ', 'KMB', 'LLY', 'MPC', 'URBN', 'WAG')),\n",
        " (619, 3, ('CSCO', 'IR', 'ORLY', 'TDC', 'WDC', 'WEC', 'XRX')),\n",
        " (620, 3, ('BRK-B', 'KMX', 'EOG', 'MTB', 'PCG', 'QEP', 'SEE')),\n",
        " (621, 3, ('BSX', 'KMX', 'DVN', 'PX', 'TRIP', 'VNO', 'WLP')),\n",
        " (622, 3, ('APC', 'MPC', 'MHFI', 'MCHP', 'NI', 'PNR', 'SNA')),\n",
        " (623, 3, ('BIIB', 'HBAN', 'LEG', 'LEN', 'NWSA', 'USB', 'WHR')),\n",
        " (624, 3, ('ARG', 'ADM', 'GLW', 'DHR', 'EL', 'FTR', 'PCP')),\n",
        " (625, 3, ('BAC', 'CCL', 'LEG', 'MAC', 'NBL', 'PBI', 'XYL')),\n",
        " (626, 3, ('DLTR', 'FCX', 'KSS', 'PETM', 'SLB', 'SYY', 'V')),\n",
        " (627, 3, ('CAT', 'DISCA', 'GRMN', 'IPG', 'PEP', 'TEL', 'WAG')),\n",
        " (628, 3, ('ADP', 'CBS', 'CTAS', 'DD', 'GPS', 'LNC', 'SYMC')),\n",
        " (629, 3, ('CCE', 'EQR', 'GS', 'HAL', 'HIG', 'MSFT', 'NFLX')),\n",
        " (630, 3, ('BXP', 'CTAS', 'GNW', 'MNST', 'MYL', 'USB', 'WLP')),\n",
        " (631, 3, ('STZ', 'DNR', 'KRFT', 'MDT', 'SCG', 'SPG', 'STJ')),\n",
        " (632, 3, ('APD', 'AVY', 'CNP', 'MET', 'NE', 'STJ', 'VAR')),\n",
        " (633, 3, ('CMG', 'CMCSA', 'DLTR', 'DUK', 'GILD', 'SPG', 'SE')),\n",
        " (634, 3, ('AA', 'ETN', 'EXC', 'MAC', 'SCG', 'SIAL', 'FOXA')),\n",
        " (635, 3, ('ED', 'DLTR', 'GIS', 'HES', 'NAVI', 'SNA', 'WU')),\n",
        " (636, 3, ('AET', 'CCI', 'NOV', 'ORLY', 'PG', 'PEG', 'SNI')),\n",
        " (637, 3, ('ABBV', 'KMX', 'FITB', 'MON', 'NWL', 'NRG', 'XL')),\n",
        " (638, 3, ('ARG', 'DISCA', 'KMB', 'PPL', 'PWR', 'STI', 'VZ')),\n",
        " (639, 3, ('INTU', 'ORLY', 'PBCT', 'PGR', 'RRC', 'ROP', 'VRTX')),\n",
        " (640, 3, ('FB', 'GWW', 'MNST', 'QCOM', 'SRE', 'WY', 'WYNN')),\n",
        " (641, 3, ('AON', 'KIM', 'L', 'RAI', 'TXN', 'UTX', 'XEL')),\n",
        " (642, 3, ('ABBV', 'BBT', 'ITW', 'NTRS', 'PRGO', 'PETM', 'PFE')),\n",
        " (643, 3, ('ACN', 'ALLE', 'BK', 'DHI', 'LOW', 'PFE', 'SPG')),\n",
        " (644, 3, ('MMM', 'AMGN', 'EIX', 'MOS', 'MSI', 'NFLX', 'PH')),\n",
        " (645, 3, ('ACE', 'CMA', 'GM', 'GT', 'LLTC', 'PVH', 'TSN')),\n",
        " (646, 3, ('CF', 'CTSH', 'FAST', 'LH', 'PCP', 'YHOO', 'ZION')),\n",
        " (647, 3, ('BXP', 'CVC', 'MSFT', 'PEG', 'TGT', 'URBN', 'VFC')),\n",
        " (648, 3, ('ADT', 'AON', 'BHI', 'IR', 'KIM', 'PLL', 'SE')),\n",
        " (649, 3, ('ADP', 'KMX', 'DG', 'FDO', 'FITB', 'PBCT', 'SWK')),\n",
        " (650, 3, ('AET', 'BMY', 'DLPH', 'MAT', 'PM', 'RAI', 'TROW')),\n",
        " (651, 3, ('AVB', 'CFN', 'CME', 'DTV', 'LB', 'NKE', 'SLB')),\n",
        " (652, 3, ('ALLE', 'AVY', 'HAL', 'JCI', 'KSS', 'PH', 'REGN')),\n",
        " (653, 3, ('GAS', 'COG', 'C', 'DLTR', 'HAR', 'POM', 'PNC')),\n",
        " (654, 3, ('AFL', 'ETN', 'EA', 'FOSL', 'LYB', 'STI', 'VNO')),\n",
        " (655, 3, ('MMM', 'DTE', 'FAST', 'ICE', 'LO', 'TXN', 'DIS')),\n",
        " (656, 3, ('AKAM', 'DLTR', 'KLAC', 'MSFT', 'NFX', 'STX', 'TGT')),\n",
        " (657, 3, ('CLX', 'DTV', 'GM', 'IRM', 'SWY', 'TJX', 'URI')),\n",
        " (658, 3, ('CLX', 'CCI', 'EFX', 'GMCR', 'MKC', 'NBR', 'FOXA')),\n",
        " (659, 3, ('BWA', 'DHI', 'FSLR', 'FOSL', 'RSG', 'CRM', 'TSS')),\n",
        " (660, 3, ('FISV', 'HCN', 'HUM', 'K', 'OI', 'DGX', 'ZION')),\n",
        " (661, 3, ('KMX', 'HRS', 'IPG', 'NE', 'NVDA', 'PAYX', 'SYY')),\n",
        " (662, 3, ('AEE', 'CERN', 'FOSL', 'HUM', 'MHFI', 'RHI', 'STX')),\n",
        " (663, 3, ('AFL', 'GT', 'NBR', 'NE', 'PSX', 'PHM', 'SCHW')),\n",
        " (664, 3, ('MO', 'APC', 'DISCA', 'ITW', 'MCK', 'MU', 'TROW')),\n",
        " (665, 3, ('BDX', 'BF-B', 'KMX', 'FDX', 'R', 'HOT', 'WEC')),\n",
        " (666, 3, ('BLL', 'CMS', 'DNR', 'EL', 'KMI', 'M', 'FOXA')),\n",
        " (667, 3, ('AMAT', 'CELG', 'EOG', 'GS', 'HD', 'STT', 'UNP')),\n",
        " (668, 3, ('ADSK', 'CERN', 'EMC', 'ESV', 'HAS', 'IFF', 'LLTC')),\n",
        " (669, 3, ('ABT', 'HAS', 'PNW', 'LUV', 'TROW', 'UNH', 'WYNN')),\n",
        " (670, 3, ('ALLE', 'AIZ', 'ADP', 'CME', 'HBAN', 'PETM', 'YUM')),\n",
        " (671, 3, ('CINF', 'DUK', 'OKE', 'SPG', 'STI', 'TMO', 'XL')),\n",
        " (672, 3, ('ABBV', 'APA', 'BAC', 'COH', 'FTI', 'MCHP', 'WLP')),\n",
        " (673, 3, ('ADSK', 'GM', 'HAL', 'NAVI', 'PGR', 'PWR', 'XRX')),\n",
        " (674, 3, ('AME', 'BRK-B', 'EXC', 'HIG', 'LYB', 'VNO', 'XLNX')),\n",
        " (675, 3, ('CCL', 'CB', 'FDX', 'GS', 'JCI', 'PRGO', 'PCG')),\n",
        " (676, 3, ('AVB', 'BBY', 'ED', 'FDO', 'JWN', 'ROK', 'UPS')),\n",
        " (677, 3, ('DHR', 'DD', 'HRL', 'KEY', 'KIM', 'RHT', 'RAI')),\n",
        " (678, 3, ('CL', 'CVS', 'DTE', 'ICE', 'TSO', 'XEL', 'XYL')),\n",
        " (679, 3, ('FLIR', 'HCP', 'HST', 'LLY', 'MDLZ', 'NOV', 'PCP')),\n",
        " (680, 3, ('DUK', 'FB', 'FAST', 'FTI', 'BEN', 'MTB', 'TMK')),\n",
        " (681, 3, ('BWA', 'HIG', 'KR', 'MS', 'PAYX', 'PNR', 'UHS')),\n",
        " (682, 3, ('D', 'FDX', 'HRL', 'INTC', 'PX', 'CRM', 'WDC')),\n",
        " (683, 3, ('FB', 'FMC', 'GT', 'KLAC', 'MJN', 'PEP', 'QCOM')),\n",
        " (684, 3, ('AIZ', 'CBG', 'CMCSA', 'DRI', 'NFLX', 'ROP', 'SO')),\n",
        " (685, 3, ('A', 'BIIB', 'CVC', 'CCI', 'PAYX', 'URI', 'YHOO')),\n",
        " (686, 3, ('BHI', 'CSC', 'DISCA', 'EW', 'NEM', 'SCG', 'SNI')),\n",
        " (687, 3, ('AN', 'AVB', 'BA', 'COG', 'SCHW', 'WDC', 'XYL')),\n",
        " (688, 3, ('ADT', 'AA', 'AMZN', 'GMCR', 'PSX', 'RIG', 'WLP')),\n",
        " (689, 3, ('APC', 'CTAS', 'CNX', 'TAP', 'NI', 'SJM', 'SE')),\n",
        " (690, 3, ('AMG', 'KMX', 'EL', 'XOM', 'PCG', 'PNC', 'RTN')),\n",
        " (691, 3, ('A', 'AEE', 'CFN', 'NBL', 'OXY', 'PNR', 'PXD')),\n",
        " (692, 3, ('CTL', 'EQR', 'GIS', 'GMCR', 'SNA', 'SPLS', 'WYN')),\n",
        " (693, 3, ('ACE', 'AEP', 'CPB', 'GPC', 'MLM', 'MWV', 'TE')),\n",
        " (694, 3, ('AIZ', 'AN', 'DE', 'ETR', 'FDO', 'MHK', 'NVDA')),\n",
        " (695, 3, ('ABT', 'ABBV', 'ACN', 'AA', 'FISV', 'IPG', 'PCLN')),\n",
        " (696, 3, ('HBAN', 'ICE', 'JNJ', 'LEN', 'MS', 'PNW', 'TEL')),\n",
        " (697, 3, ('AXP', 'AIG', 'APH', 'AAPL', 'BAC', 'IFF', 'LO')),\n",
        " (698, 3, ('CNP', 'CSC', 'XRAY', 'EL', 'BEN', 'HIG', 'PBI')),\n",
        " (699, 3, ('AGN', 'AAPL', 'DFS', 'ETFC', 'MAS', 'RHT', 'TXN')),\n",
        " (700, 3, ('MMM', 'BRK-B', 'DTE', 'NEE', 'STJ', 'UNH', 'WDC')),\n",
        " (701, 3, ('BIIB', 'COV', 'EBAY', 'EOG', 'HSP', 'KMI', 'VMC')),\n",
        " (702, 3, ('AON', 'FFIV', 'HSP', 'IRM', 'KMI', 'NTRS', 'STX')),\n",
        " (703, 3, ('BAX', 'BWA', 'CPB', 'GOOG', 'HAL', 'NAVI', 'VLO')),\n",
        " (704, 3, ('ALXN', 'CBG', 'INTU', 'JPM', 'MNST', 'PXD', 'STJ')),\n",
        " (705, 3, ('AMP', 'BLL', 'ICE', 'ORLY', 'OI', 'RTN', 'SEE')),\n",
        " (706, 3, ('AA', 'ALXN', 'ADP', 'BMY', 'DHI', 'BEN', 'VRTX')),\n",
        " (707, 3, ('XRAY', 'GT', 'HP', 'LLL', 'PCAR', 'TXT', 'DIS')),\n",
        " (708, 3, ('APH', 'AVB', 'FE', 'MYL', 'RRC', 'TSN', 'WYN')),\n",
        " (709, 3, ('AES', 'EW', 'EQT', 'FCX', 'HUM', 'PETM', 'WEC')),\n",
        " (710, 3, ('BXP', 'FLIR', 'NBR', 'PEG', 'ROP', 'SLB', 'SIAL')),\n",
        " (711, 3, ('AKAM', 'EQR', 'GCI', 'ITW', 'IFF', 'PCLN', 'TMO')),\n",
        " (712, 3, ('BWA', 'CTSH', 'EMR', 'HCN', 'MAR', 'SE', 'SRCL')),\n",
        " (713, 3, ('BK', 'CAM', 'M', 'MHK', 'NU', 'NOC', 'PNC')),\n",
        " (714, 3, ('ABT', 'AEP', 'BIIB', 'CHK', 'KR', 'LLY', 'RRC')),\n",
        " (715, 3, ('CME', 'COP', 'EMR', 'TAP', 'PXD', 'TRIP', 'FOXA')),\n",
        " (716, 3, ('AXP', 'GGP', 'HPQ', 'IR', 'LNC', 'LMT', 'RAI')),\n",
        " (717, 3, ('CMS', 'DRI', 'DAL', 'EMR', 'PCLN', 'SWK', 'THC')),\n",
        " (718, 3, ('CHK', 'HIG', 'JEC', 'MSI', 'PGR', 'SRE', 'SYY')),\n",
        " (719, 3, ('ALL', 'GD', 'PEP', 'ROP', 'UPS', 'WYNN', 'XL')),\n",
        " (720, 3, ('ACT', 'EW', 'MCD', 'SNDK', 'SJM', 'WY', 'WYN')),\n",
        " (721, 3, ('ALTR', 'GOOG', 'ISRG', 'LMT', 'PFG', 'UNP', 'VIAB')),\n",
        " (722, 3, ('APC', 'FDX', 'FLR', 'KIM', 'KMI', 'OKE', 'SPG')),\n",
        " (723, 3, ('FDX', 'GT', 'OMC', 'PDCO', 'TSS', 'WDC', 'WYN')),\n",
        " (724, 3, ('ADI', 'AVP', 'JEC', 'LLY', 'NTAP', 'NLSN', 'STJ')),\n",
        " (725, 3, ('CVC', 'CAT', 'DTV', 'HAR', 'JEC', 'LOW', 'XYL')),\n",
        " (726, 3, ('AFL', 'AIV', 'CMA', 'CAG', 'NSC', 'PCP', 'RAI')),\n",
        " (727, 3, ('ICE', 'MTB', 'MOS', 'PHM', 'R', 'SWK', 'WYN')),\n",
        " (728, 3, ('BAC', 'ETN', 'HON', 'KRFT', 'OKE', 'PCG', 'R')),\n",
        " (729, 3, ('APA', 'AIV', 'CNP', 'DNB', 'FB', 'GGP', 'NVDA')),\n",
        " (730, 3, ('GAS', 'AEE', 'IVZ', 'PCG', 'STT', 'TRIP', 'VFC')),\n",
        " (731, 3, ('AVB', 'BSX', 'CLX', 'CCE', 'STZ', 'ORLY', 'SCHW')),\n",
        " (732, 3, ('ADBE', 'EBAY', 'HIG', 'IRM', 'NDAQ', 'PFG', 'WHR')),\n",
        " (733, 3, ('APA', 'CAM', 'MAR', 'NUE', 'NVDA', 'PSA', 'TSO')),\n",
        " (734, 3, ('BAX', 'BMY', 'DLTR', 'LB', 'PETM', 'PFE', 'VRSN')),\n",
        " (735, 3, ('AXP', 'BWA', 'DD', 'ESS', 'FMC', 'MS', 'PKI')),\n",
        " (736, 3, ('CCE', 'GD', 'GT', 'HP', 'K', 'PNC', 'RTN')),\n",
        " (737, 3, ('CCL', 'IFF', 'KMB', 'NDAQ', 'NEM', 'OXY', 'RAI')),\n",
        " (738, 3, ('AMGN', 'GGP', 'ITW', 'MPC', 'PG', 'TMO', 'WFM')),\n",
        " (739, 3, ('AEP', 'CAH', 'GCI', 'HD', 'JEC', 'GMCR', 'SCG')),\n",
        " (740, 3, ('XEC', 'CMS', 'CSC', 'ETR', 'FISV', 'JBL', 'TDC')),\n",
        " (741, 3, ('ABT', 'AVGO', 'CF', 'EFX', 'HON', 'K', 'WEC')),\n",
        " (742, 3, ('KMX', 'TEG', 'K', 'LO', 'MAC', 'MA', 'PX')),\n",
        " (743, 3, ('DRI', 'FLR', 'GD', 'HAR', 'ISRG', 'KMI', 'VMC')),\n",
        " (744, 3, ('HAS', 'MCK', 'NU', 'TJX', 'TSN', 'UNP', 'V')),\n",
        " (745, 3, ('MMM', 'CBG', 'DNR', 'M', 'PCAR', 'RF', 'WLP')),\n",
        " (746, 3, ('A', 'CL', 'EQT', 'NE', 'OMC', 'SRE', 'VLO')),\n",
        " (747, 3, ('GAS', 'CVX', 'DVA', 'FLS', 'NLSN', 'NKE', 'SIAL')),\n",
        " (748, 3, ('CAT', 'CTAS', 'DHI', 'K', 'NU', 'SIAL', 'SE')),\n",
        " (749, 3, ('ACT', 'APA', 'CF', 'BEN', 'HST', 'ROP', 'UA')),\n",
        " (750, 3, ('GLW', 'HCP', 'ICE', 'MTB', 'RHI', 'VRTX', 'VFC')),\n",
        " (751, 3, ('BA', 'EMR', 'MAT', 'NI', 'PNC', 'SNA', 'UNH')),\n",
        " (752, 3, ('T', 'CAG', 'DNR', 'MUR', 'R', 'SJM', 'SO')),\n",
        " (753, 3, ('BMS', 'DO', 'HD', 'LLY', 'MDLZ', 'PWR', 'SRE')),\n",
        " (754, 3, ('CVC', 'CELG', 'FITB', 'FISV', 'HRS', 'IRM', 'PH')),\n",
        " (755, 3, ('ACT', 'AKAM', 'DLPH', 'FDX', 'NDAQ', 'PCAR', 'PEP')),\n",
        " (756, 3, ('AES', 'KR', 'PRGO', 'PX', 'TRV', 'USB', 'ZMH')),\n",
        " (757, 3, ('BK', 'CINF', 'XOM', 'ISRG', 'PSA', 'RRC', 'R')),\n",
        " (758, 3, ('APD', 'APH', 'BAC', 'EFX', 'XOM', 'HBAN', 'MS')),\n",
        " (759, 3, ('T', 'BLL', 'FCX', 'HD', 'MON', 'NFLX', 'JWN')),\n",
        " (760, 3, ('ADI', 'LMT', 'MDT', 'PH', 'PGR', 'SCG', 'WM')),\n",
        " (761, 3, ('BIIB', 'FLR', 'LNC', 'PAYX', 'PM', 'PSA', 'URBN')),\n",
        " (762, 3, ('ABT', 'AES', 'ADSK', 'BWA', 'LUK', 'PFE', 'PEG')),\n",
        " (763, 3, ('AGN', 'BCR', 'IRM', 'JNJ', 'LOW', 'PXD', 'PBI')),\n",
        " (764, 3, ('T', 'CLX', 'FB', 'ITW', 'KIM', 'NEE', 'XRX')),\n",
        " (765, 3, ('FMC', 'GT', 'TEG', 'PCP', 'SPLS', 'UPS', 'WYN')),\n",
        " (766, 3, ('BAC', 'CPB', 'EMC', 'ESS', 'FTI', 'PAYX', 'PRGO')),\n",
        " (767, 3, ('AES', 'BCR', 'DD', 'FSLR', 'ORLY', 'WMT', 'WAT')),\n",
        " (768, 3, ('BIIB', 'CME', 'BEN', 'LEN', 'KORS', 'NU', 'SO')),\n",
        " (769, 3, ('ARG', 'BMS', 'CELG', 'CSCO', 'CMS', 'FE', 'XRX')),\n",
        " (770, 3, ('APH', 'CMA', 'DNR', 'JEC', 'MET', 'PHM', 'TSN')),\n",
        " (771, 3, ('BIIB', 'COP', 'JPM', 'GMCR', 'KORS', 'NEE', 'ROP')),\n",
        " (772, 3, ('BLL', 'JNPR', 'SHW', 'SO', 'STJ', 'WY', 'WYN')),\n",
        " (773, 3, ('ARG', 'BWA', 'FTR', 'MCD', 'PEG', 'TJX', 'XEL')),\n",
        " (774, 3, ('BLK', 'CLX', 'MAR', 'MOS', 'PXD', 'PPG', 'DIS')),\n",
        " (775, 3, ('CHRW', 'CINF', 'EQR', 'FAST', 'LLTC', 'KORS', 'WDC')),\n",
        " (776, 3, ('AME', 'AVP', 'BBY', 'XEC', 'DVN', 'EQR', 'NVDA')),\n",
        " (777, 3, ('AMZN', 'BCR', 'DPS', 'GE', 'RSG', 'SPLS', 'XL')),\n",
        " (778, 3, ('AA', 'GM', 'HST', 'NI', 'PPL', 'URBN', 'WHR')),\n",
        " (779, 3, ('AKAM', 'CPB', 'CAH', 'KMX', 'CL', 'FISV', 'URBN')),\n",
        " (780, 3, ('EQT', 'INTU', 'QCOM', 'STI', 'TJX', 'WDC', 'WEC')),\n",
        " (781, 3, ('AIZ', 'CAT', 'FMC', 'GD', 'PPL', 'SE', 'WYNN')),\n",
        " (782, 3, ('BLL', 'FOSL', 'HP', 'MWV', 'NEE', 'DGX', 'TSO')),\n",
        " (783, 3, ('ARG', 'CMG', 'DLPH', 'LH', 'SYK', 'THC', 'UNP')),\n",
        " (784, 3, ('APD', 'CAG', 'DLTR', 'EL', 'MUR', 'ROP', 'ZION')),\n",
        " (785, 3, ('ACT', 'AIG', 'PCP', 'PWR', 'REGN', 'SCG', 'TEL')),\n",
        " (786, 3, ('ALXN', 'BBBY', 'CME', 'MRO', 'MS', 'PNC', 'RHI')),\n",
        " (787, 3, ('AGN', 'BCR', 'EFX', 'FLS', 'FLR', 'HCBK', 'SRE')),\n",
        " (788, 3, ('AA', 'BRK-B', 'CSC', 'PH', 'R', 'TRV', 'WM')),\n",
        " (789, 3, ('ABC', 'CME', 'DHI', 'KLAC', 'SLB', 'SPG', 'WYN')),\n",
        " (790, 3, ('ADP', 'CPB', 'KIM', 'LEN', 'MLM', 'PPL', 'VIAB')),\n",
        " (791, 3, ('BAC', 'BAX', 'D', 'DUK', 'IFF', 'MPC', 'TSN')),\n",
        " (792, 3, ('APD', 'KO', 'FB', 'GPS', 'TSS', 'TSCO', 'ZTS')),\n",
        " (793, 3, ('AMGN', 'CPB', 'GIS', 'IRM', 'LEN', 'LUK', 'PCP')),\n",
        " (794, 3, ('ABC', 'EIX', 'HOG', 'MRO', 'MAS', 'SYY', 'VZ')),\n",
        " (795, 3, ('BMY', 'DAL', 'KEY', 'THC', 'TWC', 'TSS', 'VRTX')),\n",
        " (796, 3, ('CSX', 'DLTR', 'FLR', 'HON', 'JPM', 'PBCT', 'SO')),\n",
        " (797, 3, ('CNP', 'GILD', 'HAS', 'KLAC', 'CRM', 'TEL', 'V')),\n",
        " (798, 3, ('BSX', 'COP', 'JEC', 'NAVI', 'NFLX', 'PNW', 'STT')),\n",
        " (799, 3, ('AEE', 'BMY', 'FISV', 'LLL', 'MJN', 'PNR', 'PHM')),\n",
        " (800, 3, ('GAS', 'BLK', 'XOM', 'GOOG', 'NFLX', 'PG', 'WM')),\n",
        " (801, 3, ('BWA', 'DAL', 'NFLX', 'NLSN', 'TROW', 'TIF', 'WYN')),\n",
        " (802, 3, ('ADM', 'BAX', 'DISCA', 'NTRS', 'RHI', 'TJX', 'WMT')),\n",
        " (803, 3, ('AFL', 'FLR', 'M', 'NBL', 'SCG', 'URI', 'WHR')),\n",
        " (804, 3, ('AMGN', 'BBBY', 'XEC', 'JCI', 'PDCO', 'TWC', 'WFM')),\n",
        " (805, 3, ('ESV', 'HAS', 'HON', 'NBL', 'NOC', 'PBCT', 'SPLS')),\n",
        " (806, 3, ('ALLE', 'CSX', 'HPQ', 'STJ', 'USB', 'UPS', 'YUM')),\n",
        " (807, 3, ('CNX', 'FDX', 'KORS', 'MSI', 'OXY', 'URBN', 'VAR')),\n",
        " (808, 3, ('BRK-B', 'CTAS', 'HP', 'HUM', 'LEN', 'PBI', 'ROST')),\n",
        " (809, 3, ('CAH', 'CTSH', 'COST', 'ESRX', 'FB', 'MSI', 'PDCO')),\n",
        " (810, 3, ('APC', 'BDX', 'BXP', 'DLPH', 'EL', 'FITB', 'SNI')),\n",
        " (811, 3, ('ACE', 'ALL', 'DO', 'EIX', 'FB', 'SHW', 'SBUX')),\n",
        " (812, 3, ('BSX', 'XEC', 'ECL', 'FMC', 'MCK', 'SWK', 'WMT')),\n",
        " (813, 3, ('DNB', 'EQT', 'FISV', 'HIG', 'TEG', 'PETM', 'WM')),\n",
        " (814, 3, ('BLL', 'CELG', 'EL', 'FITB', 'MAC', 'NDAQ', 'RIG')),\n",
        " (815, 3, ('LH', 'NU', 'PBCT', 'PCLN', 'PFG', 'TSN', 'WMB')),\n",
        " (816, 3, ('AIZ', 'D', 'XOM', 'KSS', 'MLM', 'RRC', 'YUM')),\n",
        " (817, 3, ('ADS', 'BLL', 'CFN', 'LB', 'MPC', 'PWR', 'RTN')),\n",
        " (818, 3, ('ADBE', 'CTAS', 'EFX', 'HD', 'INTU', 'MDLZ', 'SYMC')),\n",
        " (819, 3, ('ED', 'HCBK', 'KEY', 'SWK', 'SRCL', 'TSCO', 'UNH')),\n",
        " (820, 3, ('AON', 'EIX', 'GNW', 'NLSN', 'RRC', 'TMO', 'TSN')),\n",
        " (821, 3, ('AVGO', 'MNK', 'PM', 'PNW', 'PXD', 'PPG', 'RF')),\n",
        " (822, 3, ('AAPL', 'EW', 'EMC', 'IRM', 'NBR', 'PM', 'SNA')),\n",
        " (823, 3, ('AMZN', 'BA', 'FAST', 'GM', 'IFF', 'QEP', 'VNO')),\n",
        " (824, 3, ('COG', 'IP', 'GMCR', 'MJN', 'PGR', 'TSCO', 'URBN')),\n",
        " (825, 3, ('AME', 'CCI', 'LH', 'NSC', 'PBCT', 'LUV', 'WAT')),\n",
        " (826, 3, ('A', 'AVGO', 'DHI', 'HRS', 'PCG', 'WDC', 'XL')),\n",
        " (827, 3, ('ACN', 'ESS', 'KMB', 'NOV', 'NE', 'STJ', 'WAG')),\n",
        " (828, 3, ('CA', 'CTXS', 'ETN', 'FAST', 'M', 'MJN', 'QEP')),\n",
        " (829, 3, ('ADSK', 'CVX', 'CSCO', 'GCI', 'SNA', 'VRSN', 'WEC')),\n",
        " (830, 3, ('APA', 'AMAT', 'BF-B', 'INTC', 'MHFI', 'PLD', 'SYK')),\n",
        " (831, 3, ('ACN', 'APH', 'FIS', 'IBM', 'KSU', 'LH', 'STI')),\n",
        " (832, 3, ('ABBV', 'MO', 'BHI', 'HCBK', 'JPM', 'NWL', 'POM')),\n",
        " (833, 3, ('ALLE', 'CINF', 'GNW', 'LRCX', 'KORS', 'SPG', 'TMO')),\n",
        " (834, 3, ('AMG', 'AMAT', 'EQT', 'EFX', 'IFF', 'JWN', 'COL')),\n",
        " (835, 3, ('APA', 'FDO', 'FLR', 'GGP', 'HRS', 'JNJ', 'NEM')),\n",
        " (836, 3, ('EXC', 'LUK', 'NWSA', 'NSC', 'NTRS', 'PRU', 'PEG')),\n",
        " (837, 3, ('ADSK', 'COG', 'KO', 'MDT', 'NU', 'RRC', 'RHI')),\n",
        " (838, 3, ('DISCA', 'LUK', 'NSC', 'NVDA', 'SPG', 'WAG', 'WY')),\n",
        " (839, 3, ('ALXN', 'AGN', 'BDX', 'CTL', 'EQT', 'M', 'TIF')),\n",
        " (840, 3, ('ACT', 'BXP', 'STZ', 'FLS', 'HST', 'HCBK', 'RL')),\n",
        " (841, 3, ('C', 'ESRX', 'LO', 'SLB', 'TXT', 'UNP', 'XL')),\n",
        " (842, 3, ('KSS', 'LH', 'MAR', 'NWSA', 'NUE', 'URI', 'ZION')),\n",
        " (843, 3, ('CI', 'CMI', 'EOG', 'FISV', 'KIM', 'PPG', 'STT')),\n",
        " (844, 3, ('KMI', 'MMC', 'PEP', 'PSX', 'SO', 'WMB', 'ZTS')),\n",
        " (845, 3, ('KMX', 'NDAQ', 'POM', 'PEP', 'SNA', 'STJ', 'ZMH')),\n",
        " (846, 3, ('ADI', 'ADSK', 'BLL', 'EIX', 'GMCR', 'QCOM', 'UNM')),\n",
        " (847, 3, ('BMY', 'CMA', 'ICE', 'JEC', 'MDT', 'REGN', 'CRM')),\n",
        " (848, 3, ('ABBV', 'AEP', 'CCL', 'CAG', 'FCX', 'LEN', 'PRGO')),\n",
        " (849, 3, ('APD', 'EA', 'EMR', 'EQT', 'HST', 'ROK', 'XL')),\n",
        " (850, 3, ('GAS', 'BF-B', 'CHRW', 'ESRX', 'IFF', 'SCHW', 'HOT')),\n",
        " (851, 3, ('ALL', 'BA', 'COF', 'GME', 'MKC', 'PAYX', 'TE')),\n",
        " (852, 3, ('BA', 'KMX', 'HRS', 'HD', 'MA', 'PEG', 'SNI')),\n",
        " (853, 3, ('CMS', 'HCN', 'IBM', 'PRU', 'PEG', 'TDC', 'WYNN')),\n",
        " (854, 3, ('BRK-B', 'MSI', 'PH', 'POM', 'DGX', 'SEE', 'WAG')),\n",
        " (855, 3, ('MMM', 'XRAY', 'DVN', 'DO', 'MHK', 'PH', 'PNR')),\n",
        " (856, 3, ('AMAT', 'AVGO', 'CCE', 'ICE', 'LNC', 'UHS', 'VIAB')),\n",
        " (857, 3, ('APD', 'KO', 'XRAY', 'PLD', 'TXN', 'UPS', 'WFM')),\n",
        " (858, 3, ('APD', 'CTXS', 'ISRG', 'MUR', 'PLL', 'PEG', 'VZ')),\n",
        " (859, 3, ('AA', 'ADS', 'CTXS', 'L', 'M', 'MMC', 'WM')),\n",
        " (860, 3, ('CBS', 'DISCA', 'GS', 'KRFT', 'NEM', 'NU', 'NTRS')),\n",
        " (861, 3, ('LNC', 'SNA', 'SWK', 'SYMC', 'TROW', 'FOXA', 'WLP')),\n",
        " (862, 3, ('AES', 'BSX', 'COV', 'EQR', 'IP', 'ORCL', 'RL')),\n",
        " (863, 3, ('ADI', 'DE', 'ESRX', 'ICE', 'LNC', 'TROW', 'WYN')),\n",
        " (864, 3, ('CAM', 'CINF', 'DLPH', 'LUK', 'SEE', 'SYMC', 'TSCO')),\n",
        " (865, 3, ('CVX', 'COH', 'ESS', 'EL', 'HCN', 'MHFI', 'PCLN')),\n",
        " (866, 3, ('CTXS', 'FOSL', 'MU', 'MOS', 'PPL', 'PWR', 'RHI')),\n",
        " (867, 3, ('AET', 'ABC', 'CSCO', 'GM', 'JBL', 'OI', 'TEL')),\n",
        " (868, 3, ('AVGO', 'BIIB', 'BA', 'ECL', 'IVZ', 'NE', 'ORCL')),\n",
        " (869, 3, ('AMG', 'BBT', 'GRMN', 'INTC', 'MET', 'RRC', 'WFM')),\n",
        " (870, 3, ('ADT', 'CMG', 'HIG', 'JPM', 'LYB', 'RRC', 'V')),\n",
        " (871, 3, ('GLW', 'DUK', 'EXC', 'GPC', 'GOOG', 'TSO', 'VZ')),\n",
        " (872, 3, ('BMY', 'CMCSA', 'EQR', 'FTI', 'IRM', 'RL', 'THC')),\n",
        " (873, 3, ('AA', 'CMS', 'ECL', 'FMC', 'HAR', 'LEG', 'MJN')),\n",
        " (874, 3, ('FCX', 'LH', 'LO', 'PNC', 'PG', 'ROST', 'SWK')),\n",
        " (875, 3, ('ESV', 'ESS', 'GME', 'HAS', 'HSP', 'OXY', 'SNI')),\n",
        " (876, 3, ('ARG', 'BDX', 'DHI', 'NEM', 'NRG', 'PKI', 'TMO')),\n",
        " (877, 3, ('BCR', 'CF', 'ESV', 'HCBK', 'MLM', 'MS', 'VLO')),\n",
        " (878, 3, ('BA', 'FLS', 'GCI', 'TEG', 'MDLZ', 'PLL', 'PSA')),\n",
        " (879, 3, ('ACN', 'EMR', 'BEN', 'LB', 'MPC', 'SLB', 'WU')),\n",
        " (880, 3, ('GAS', 'ARG', 'APC', 'ED', 'EL', 'NEE', 'DIS')),\n",
        " (881, 3, ('ALTR', 'GD', 'JCI', 'SWY', 'SRE', 'UPS', 'URBN')),\n",
        " (882, 3, ('AXP', 'AMT', 'CVC', 'HIG', 'MU', 'PPL', 'TWX')),\n",
        " (883, 3, ('CBS', 'ESV', 'LYB', 'MON', 'NEM', 'PLD', 'WU')),\n",
        " (884, 3, ('DVA', 'FDX', 'MTB', 'MLM', 'NOV', 'TEL', 'WDC')),\n",
        " (885, 3, ('ALL', 'CMG', 'F', 'PCAR', 'PSA', 'SWN', 'TWC')),\n",
        " (886, 3, ('HOG', 'LUK', 'MSI', 'OKE', 'PLD', 'PRU', 'ROST')),\n",
        " (887, 3, ('BRCM', 'CERN', 'DISCA', 'DLTR', 'GGP', 'TSS', 'WYN')),\n",
        " (888, 3, ('BCR', 'CMG', 'EQT', 'M', 'PNC', 'RRC', 'SEE')),\n",
        " (889, 3, ('ADS', 'DVN', 'XOM', 'FMC', 'SRCL', 'WMB', 'XL')),\n",
        " (890, 3, ('BRCM', 'ETFC', 'HAS', 'NDAQ', 'ORCL', 'SPLS', 'RIG')),\n",
        " (891, 3, ('ADP', 'CTSH', 'F', 'PBI', 'DGX', 'TRV', 'WAT')),\n",
        " (892, 3, ('GIS', 'GILD', 'HON', 'KIM', 'LRCX', 'PCLN', 'TMK')),\n",
        " (893, 3, ('AKAM', 'CBS', 'CSX', 'EFX', 'FAST', 'FLR', 'MCD')),\n",
        " (894, 3, ('AFL', 'CMG', 'DNB', 'ESS', 'FLR', 'SPLS', 'THC')),\n",
        " (895, 3, ('FDO', 'HON', 'MCO', 'PCAR', 'PFG', 'TEL', 'TIF')),\n",
        " (896, 3, ('EQT', 'FTI', 'NKE', 'RHT', 'TDC', 'TJX', 'UA')),\n",
        " (897, 3, ('CMI', 'FLS', 'GT', 'MSFT', 'OI', 'PSA', 'VMC')),\n",
        " (898, 3, ('BLK', 'XEC', 'CCI', 'KRFT', 'MPC', 'OMC', 'WMT')),\n",
        " (899, 3, ('AVP', 'CAG', 'JPM', 'NVDA', 'PXD', 'SWK', 'YHOO')),\n",
        " (900, 3, ('BSX', 'EIX', 'ISRG', 'MCD', 'VLO', 'WFC', 'WFM')),\n",
        " (901, 3, ('CAG', 'FMC', 'GT', 'MET', 'NAVI', 'PVH', 'VIAB')),\n",
        " (902, 3, ('AMGN', 'EQT', 'TAP', 'NBR', 'ROK', 'TXN', 'TWC')),\n",
        " (903, 3, ('APC', 'DNR', 'FTR', 'GM', 'HRL', 'MDT', 'PSA')),\n",
        " (904, 3, ('BSX', 'CTAS', 'GME', 'GRMN', 'K', 'SLB', 'TDC')),\n",
        " (905, 3, ('AGN', 'BA', 'GM', 'NBL', 'OKE', 'TROW', 'XLNX')),\n",
        " (906, 3, ('MMM', 'CERN', 'DOW', 'XOM', 'HST', 'MAS', 'MYL')),\n",
        " (907, 3, ('ACN', 'AZO', 'FISV', 'F', 'POM', 'TXT', 'WHR')),\n",
        " (908, 3, ('ESV', 'EQR', 'HCN', 'LO', 'MDLZ', 'OI', 'UA')),\n",
        " (909, 3, ('BXP', 'DHR', 'HRL', 'OI', 'PDCO', 'PXD', 'WY')),\n",
        " (910, 3, ('CAH', 'EXPE', 'KR', 'LRCX', 'MCD', 'NU', 'PLD')),\n",
        " (911, 3, ('ALXN', 'CAH', 'DRI', 'FLIR', 'MDT', 'TROW', 'ZTS')),\n",
        " (912, 3, ('EL', 'HIG', 'ORCL', 'PLL', 'PSX', 'ROK', 'TSCO')),\n",
        " (913, 3, ('CBS', 'CL', 'DLPH', 'FLIR', 'KSS', 'OI', 'SWK')),\n",
        " (914, 3, ('BCR', 'BIIB', 'DOV', 'PXD', 'STI', 'VFC', 'WIN')),\n",
        " (915, 3, ('AA', 'AN', 'BMY', 'DLPH', 'EMC', 'EMR', 'PDCO')),\n",
        " (916, 3, ('ADM', 'CCL', 'FLIR', 'MNK', 'MA', 'RSG', 'WAG')),\n",
        " (917, 3, ('CPB', 'ECL', 'FISV', 'FMC', 'ORCL', 'PXD', 'SCHW')),\n",
        " (918, 3, ('EA', 'HCP', 'NTAP', 'NVDA', 'PBI', 'TSN', 'ZTS')),\n",
        " (919, 3, ('AMP', 'C', 'GRMN', 'PBI', 'RL', 'ROP', 'VFC')),\n",
        " (920, 3, ('CB', 'XEC', 'NFX', 'NBL', 'PDCO', 'PX', 'QCOM')),\n",
        " (921, 3, ('APA', 'BIIB', 'BLK', 'GM', 'GPC', 'JBL', 'UHS')),\n",
        " (922, 3, ('GCI', 'GPC', 'HRL', 'LRCX', 'MET', 'NEE', 'PBI')),\n",
        " (923, 3, ('AFL', 'EL', 'LH', 'MLM', 'NRG', 'TMK', 'ZMH')),\n",
        " (924, 3, ('AAPL', 'CBG', 'DO', 'ETFC', 'F', 'IBM', 'MSFT')),\n",
        " (925, 3, ('MO', 'GPC', 'KORS', 'MHK', 'PRU', 'STX', 'TSCO')),\n",
        " (926, 3, ('BRCM', 'INTU', 'NTAP', 'SNDK', 'HOT', 'TSS', 'URBN')),\n",
        " (927, 3, ('AMAT', 'BRCM', 'GPC', 'HSY', 'PPG', 'SWY', 'UNP')),\n",
        " (928, 3, ('AMGN', 'CCE', 'DLPH', 'MKC', 'MWV', 'PFE', 'STI')),\n",
        " (929, 3, ('AZO', 'AVGO', 'BK', 'XEC', 'EFX', 'HRL', 'PPG')),\n",
        " (930, 3, ('XRAY', 'GPS', 'ISRG', 'MDLZ', 'MUR', 'PPL', 'QEP')),\n",
        " (931, 3, ('AIG', 'AAPL', 'AVGO', 'BIIB', 'COP', 'SWN', 'WIN')),\n",
        " (932, 3, ('AEE', 'AIZ', 'GPC', 'JEC', 'LLL', 'NFLX', 'LUV')),\n",
        " (933, 3, ('AMP', 'DAL', 'HSY', 'MCD', 'NVDA', 'ORCL', 'PBCT')),\n",
        " (934, 3, ('DRI', 'DTE', 'EMR', 'GGP', 'IVZ', 'JNJ', 'MPC')),\n",
        " (935, 3, ('CI', 'DE', 'FTI', 'ORLY', 'SNA', 'SRCL', 'VRTX')),\n",
        " (936, 3, ('ADI', 'BMY', 'FLR', 'BEN', 'HON', 'JPM', 'LEG')),\n",
        " (937, 3, ('ADT', 'AVY', 'CNP', 'EIX', 'ORCL', 'R', 'WYNN')),\n",
        " (938, 3, ('CSCO', 'CLX', 'CMS', 'FAST', 'GPS', 'ROK', 'SCG')),\n",
        " (939, 3, ('AET', 'BBBY', 'CTL', 'HPQ', 'OKE', 'PBCT', 'PHM')),\n",
        " (940, 3, ('CMS', 'IVZ', 'IRM', 'MRK', 'SHW', 'SBUX', 'TROW')),\n",
        " (941, 3, ('HON', 'ISRG', 'MRK', 'PNW', 'PG', 'PSA', 'TDC')),\n",
        " (942, 3, ('CTSH', 'DPS', 'EIX', 'PCG', 'PVH', 'SLB', 'UHS')),\n",
        " (943, 3, ('CBS', 'CVS', 'DHR', 'GM', 'IPG', 'PH', 'TEL')),\n",
        " (944, 3, ('DO', 'EMN', 'ECL', 'TAP', 'NWSA', 'R', 'TSO')),\n",
        " (945, 3, ('CAT', 'CINF', 'DVA', 'ESS', 'MCK', 'KORS', 'MU')),\n",
        " (946, 3, ('CHK', 'CLX', 'MAS', 'PCL', 'TJX', 'UA', 'WAT')),\n",
        " (947, 3, ('AIV', 'BA', 'COF', 'HAL', 'IRM', 'PCLN', 'XYL')),\n",
        " (948, 3, ('BWA', 'COH', 'COV', 'FLS', 'ISRG', 'LB', 'TWX')),\n",
        " (949, 3, ('DO', 'D', 'MET', 'PH', 'POM', 'QEP', 'WFM')),\n",
        " (950, 3, ('CELG', 'CTXS', 'CL', 'GLW', 'ORLY', 'TMK', 'VMC')),\n",
        " (951, 3, ('BDX', 'BBBY', 'CMS', 'KMB', 'OI', 'PKI', 'VIAB')),\n",
        " (952, 3, ('CTL', 'DRI', 'LLL', 'LMT', 'PGR', 'SYK', 'WU')),\n",
        " (953, 3, ('AMGN', 'DFS', 'JCI', 'MKC', 'NWL', 'ORLY', 'WFM')),\n",
        " (954, 3, ('COST', 'CVS', 'PXD', 'SHW', 'TWC', 'TJX', 'UNH')),\n",
        " (955, 3, ('DD', 'HAS', 'PKI', 'PXD', 'STT', 'VRSN', 'WFC')),\n",
        " (956, 3, ('ALLE', 'STZ', 'GLW', 'ESRX', 'HCN', 'GMCR', 'LRCX')),\n",
        " (957, 3, ('FLR', 'IBM', 'M', 'MRO', 'MLM', 'NOC', 'ZMH')),\n",
        " (958, 3, ('ADBE', 'BRK-B', 'LLY', 'LLTC', 'MAC', 'SNA', 'UNM')),\n",
        " (959, 3, ('FAST', 'GD', 'LUK', 'NI', 'NTRS', 'UNP', 'XL')),\n",
        " (960, 3, ('EXPD', 'GOOG', 'HOG', 'KEY', 'NDAQ', 'NI', 'PDCO')),\n",
        " (961, 3, ('AVY', 'AVP', 'BSX', 'CI', 'ICE', 'REGN', 'WDC')),\n",
        " (962, 3, ('CAT', 'D', 'GNW', 'HST', 'HUM', 'LO', 'VTR')),\n",
        " (963, 3, ('KO', 'DVA', 'FTI', 'HIG', 'MET', 'MOS', 'PG')),\n",
        " (964, 3, ('T', 'CAH', 'ETFC', 'FLR', 'JNJ', 'PLD', 'TE')),\n",
        " (965, 3, ('CF', 'HCBK', 'ITW', 'JBL', 'QEP', 'WM', 'XLNX')),\n",
        " (966, 3, ('AMG', 'AKAM', 'CAH', 'EFX', 'HP', 'SCG', 'VIAB')),\n",
        " (967, 3, ('MMM', 'ADM', 'BAX', 'NOV', 'NFX', 'NWSA', 'UNM')),\n",
        " (968, 3, ('ADT', 'CAT', 'HON', 'IBM', 'IP', 'LM', 'NU')),\n",
        " (969, 3, ('DHR', 'DVA', 'FFIV', 'LYB', 'NWSA', 'PSX', 'RL')),\n",
        " (970, 3, ('AVY', 'CFN', 'DLPH', 'KEY', 'PCLN', 'RTN', 'XLNX')),\n",
        " (971, 3, ('DOV', 'FTI', 'MA', 'COL', 'WFC', 'WEC', 'WYNN')),\n",
        " (972, 3, ('A', 'CFN', 'CMA', 'GM', 'INTC', 'PX', 'TEL')),\n",
        " (973, 3, ('ACE', 'AVGO', 'AVB', 'XEC', 'CMCSA', 'FITB', 'MHK')),\n",
        " (974, 3, ('MO', 'BF-B', 'CAH', 'GM', 'HBAN', 'MET', 'VNO')),\n",
        " (975, 3, ('AES', 'AMZN', 'AAPL', 'DFS', 'DPS', 'GT', 'NKE')),\n",
        " (976, 3, ('FAST', 'FOSL', 'GMCR', 'MCHP', 'MCO', 'NDAQ', 'XYL')),\n",
        " (977, 3, ('XEC', 'DTV', 'EXPD', 'HRS', 'SO', 'SPLS', 'XEL')),\n",
        " (978, 3, ('ACE', 'GAS', 'DRI', 'GMCR', 'KMB', 'KRFT', 'MAS')),\n",
        " (979, 3, ('EA', 'GS', 'KMB', 'KSS', 'PRGO', 'TRV', 'URI')),\n",
        " (980, 3, ('AMG', 'EMR', 'GD', 'IVZ', 'PEG', 'SHW', 'VNO')),\n",
        " (981, 3, ('AAPL', 'BLL', 'KMX', 'ETR', 'HBAN', 'PNW', 'URI')),\n",
        " (982, 3, ('ETR', 'GILD', 'MCHP', 'NE', 'ORLY', 'PEG', 'ZMH')),\n",
        " (983, 3, ('AES', 'BHI', 'DG', 'FAST', 'FSLR', 'GILD', 'VAR')),\n",
        " (984, 3, ('DNB', 'HAL', 'HAS', 'KMI', 'SBUX', 'TWC', 'UA')),\n",
        " (985, 3, ('AIZ', 'BLL', 'COH', 'LEN', 'PRU', 'DGX', 'COL')),\n",
        " (986, 3, ('CB', 'HAL', 'HOG', 'INTC', 'MAC', 'VTR', 'XL')),\n",
        " (987, 3, ('FLR', 'HON', 'HBAN', 'GMCR', 'MYL', 'TMK', 'WLP')),\n",
        " (988, 3, ('AEP', 'DHI', 'ECL', 'HAS', 'KSS', 'MRO', 'SNA')),\n",
        " (989, 3, ('AIG', 'AVP', 'CME', 'DTV', 'NTRS', 'WIN', 'XL')),\n",
        " (990, 3, ('APA', 'CTAS', 'KO', 'OI', 'SJM', 'WMT', 'ZMH')),\n",
        " (991, 3, ('BRK-B', 'DNR', 'FTR', 'MCK', 'PBI', 'WMT', 'WYN')),\n",
        " (992, 3, ('ETFC', 'GME', 'GM', 'GS', 'NVDA', 'SNI', 'DIS')),\n",
        " (993, 3, ('AN', 'CSCO', 'FB', 'HCN', 'HD', 'ROST', 'TSCO')),\n",
        " (994, 3, ('BA', 'D', 'JNJ', 'MAC', 'MET', 'PETM', 'VLO')),\n",
        " (995, 3, ('AA', 'AXP', 'AVB', 'EQR', 'JCI', 'MOS', 'PX')),\n",
        " (996, 3, ('KMX', 'F', 'TAP', 'NDAQ', 'OKE', 'SEE', 'SO')),\n",
        " (997, 3, ('ARG', 'BAC', 'COST', 'MCK', 'NWSA', 'SIAL', 'TWC')),\n",
        " (998, 3, ('MMC', 'NVDA', 'SWY', 'TXT', 'TMO', 'URBN', 'WAG')),\n",
        " (999, 3, ('BXP', 'DAL', 'DO', 'HSP', 'RRC', 'REGN', 'TRIP')),\n",
        " ...]"
       ]
      }
     ],
     "prompt_number": 22
    },
    {
     "cell_type": "code",
     "collapsed": false,
     "input": [
      "results = dview.map_sync( lambda k: anticor.run( start=start, end=end, window_length = k[1], tickers=k[2], runName=runName, runIndex=k[0],savePath=savePath,thisRunTime=thisRunTime ), testSets )"
     ],
     "language": "python",
     "metadata": {},
     "outputs": []
    },
    {
     "cell_type": "code",
     "collapsed": false,
     "input": [
      "dview."
     ],
     "language": "python",
     "metadata": {},
     "outputs": [
      {
       "metadata": {},
       "output_type": "pyout",
       "prompt_number": 25,
       "text": [
        "['13165f6a-52c9-4832-b403-f197b002254d',\n",
        " 'e4c7f13b-b115-4d07-9e48-8e6dd556ab9c',\n",
        " '459095bb-551e-462c-ab73-ad52fa3cba58',\n",
        " '43599672-6c1e-4e3a-872a-f28dec8bd2bc',\n",
        " '7e3d8909-faa4-4ee2-ac94-918cd8b7e48c',\n",
        " '43097bec-8910-4eba-b0a3-0be3c3e462b4',\n",
        " '9b9f8f2f-f58a-4992-814b-073361df6e72',\n",
        " '7e415b38-c851-4ae8-bc54-64d2c62e3507',\n",
        " '7f752a41-7a73-4e82-a805-f86d4b17f458',\n",
        " '551e4d8f-5a38-4424-a3be-f7861bd500fb',\n",
        " '5768b442-0cc9-4cdd-b412-dd37ca273e41',\n",
        " 'd205a496-591d-4701-8a74-ea5823483624',\n",
        " 'a07bc9d3-3a6d-4eb9-aa7b-d5a3ea152bad',\n",
        " 'dbc74b32-fc3a-44ba-9685-e64ac98bd7e7',\n",
        " '82ffacdf-abcf-470c-baa1-a9d721629b45',\n",
        " 'da34082f-4755-4511-bd61-eeaf0ff3c303',\n",
        " '8c39dc3a-3de3-4aad-8c6e-e3827ebeabcc',\n",
        " '2a2805b6-7928-4892-a6f8-72f9f6899a9f',\n",
        " '3af56aa7-03f6-4540-96b8-deba34a9e5f1',\n",
        " '2d6e0bf9-b858-43d2-8e76-bd3f76b914f0',\n",
        " '532d00b6-f80c-43c0-aef2-431298ea5f86',\n",
        " 'cd7b2380-cf52-435e-a003-c52c2e62d735',\n",
        " '5af2ad81-558b-40a8-a4f1-55428e20ca31',\n",
        " 'a505572b-0d1e-4edb-b242-f456571ebfa7',\n",
        " '0de8289d-23d8-4769-8809-bc4c53172dc4',\n",
        " 'd03f8deb-7800-48d8-a8c2-127c7b9dd80e',\n",
        " '11df2b50-d1a0-4ce7-b23a-beb42f398ed2',\n",
        " '78dca043-aadd-477a-abb3-b1657f3ef1b5',\n",
        " '4729b5ee-5c15-49e3-a7e5-048eef570638',\n",
        " '54176794-b2c6-41fd-a137-94b539da36d0',\n",
        " '441794e7-3707-42c4-a698-f2a1dfc194db',\n",
        " '0012e048-08e3-4a19-b3aa-1a725837c3d9',\n",
        " '109fb7f6-e53e-4b2d-9cc5-6c514d1e47fc',\n",
        " '2ca21d25-6370-4388-b0a4-b4350cabac24',\n",
        " '612d58af-1bf1-4451-8392-d09171497b09',\n",
        " '9368c99d-23b5-40e9-bed4-5d6ef5ace0ab',\n",
        " 'ef8764cf-ece0-4e87-a2f1-8634e5fd204a',\n",
        " '6fa41787-11c4-49e5-806e-021a631cb3a4',\n",
        " '1a00bcef-19a9-448a-a653-f3ea337d7e74',\n",
        " 'b96c3d2a-16b5-40c2-bcf4-01a536c636a6',\n",
        " '920e6061-2ada-45a0-8adb-a0d6687e1e93',\n",
        " '6e66ec20-6ef7-4c5b-8daf-e062b803de19',\n",
        " '2745399a-be7d-4fdf-ac11-dc337e5f6c8b',\n",
        " '20e72b21-b2bb-427f-a10d-b2a841ce0a47',\n",
        " '1e5acffe-562f-4580-a419-edd982b55bb6',\n",
        " '0f7b48c6-21bb-45de-b0a7-5dbb027687b2',\n",
        " '606bc002-33c0-4477-a65b-6568c03898e3',\n",
        " '31060f0d-8439-4d87-86fc-cb3ccea9d705',\n",
        " 'cb955d61-6bd7-47b9-b06d-fa6e7211efe6',\n",
        " '20ba5426-a204-4659-82ee-72be80cc1bc6',\n",
        " '3a9cca8e-2d12-4622-b126-03398a15ba24',\n",
        " 'b3e74b59-ede9-4bc7-9d26-9ade898fc1a8',\n",
        " 'b2856688-f2e9-405c-8b9f-698a6aaf3363',\n",
        " 'd9375036-e452-47a1-8f22-891694dcc090',\n",
        " '23aa8f3b-b3ac-4cbf-9f46-9f50856f485b',\n",
        " '7c123a95-0aa5-45aa-9642-6e722c166830',\n",
        " '2345f84f-1f88-4c06-bb96-2f3dc6328129',\n",
        " '5e77ea1b-d927-4cab-8e7a-e66c1206aeed',\n",
        " '06637dac-b7e1-43db-9ccd-9d2fdc3a2d3c',\n",
        " '9852fd04-0d4a-44a7-9b3b-f1e4a4542ffe',\n",
        " 'b543d9fd-15a5-4bb3-a68f-b482bc68fa35',\n",
        " 'af2798a6-0153-4dd5-88bd-830e2e8bd246',\n",
        " '5b380860-8b95-4404-8556-467753c694e2',\n",
        " '240e65ba-c709-4a12-8c13-d6b5d3041d99',\n",
        " '0f21f894-1913-4087-b168-baeb295bae2b',\n",
        " 'ff31b930-e8bd-448f-a2c7-34ab1d9e93b1',\n",
        " '853f4274-d08d-4a88-863c-9ad6d3d02259',\n",
        " '8c6eda4a-7ba6-4239-9467-3cb57f253195',\n",
        " '0e6fb1f8-121b-437d-aefd-af437e67c279',\n",
        " '883278cd-4577-4558-9121-9f54a289ba64',\n",
        " 'fbff095c-c071-4a18-a9ce-75824f085980',\n",
        " 'e70a09f6-37bc-4db7-bd29-364fe30f465d',\n",
        " 'df61b334-efc2-4e3b-8dbd-94672da15daa',\n",
        " '1f4e5c5f-a58d-447b-bee5-23b05d11b7ad',\n",
        " 'a2b06265-a351-4d34-af8a-9d3ed3aea0fe',\n",
        " '1350ccf7-7315-4920-abd9-aaa270e75cc1',\n",
        " 'f6dc0010-95cd-4011-8386-349badbb4e5d',\n",
        " 'f132330c-dfab-4fcf-8e7a-7044f9ad557e',\n",
        " '22096157-cf0d-4ed6-9d2b-b9212f30074b',\n",
        " 'e69704f6-bbe0-477c-9561-5fc6cd866808',\n",
        " '5671d273-b5a7-44f0-805b-fc362f8e09bb',\n",
        " '119231c9-10c3-46f9-bd35-49a1bc012d23',\n",
        " 'b7852817-9bf2-459e-8e7c-ab89dd3e3745',\n",
        " 'bc4c25a1-b3f4-4efd-85da-1e55012ec519',\n",
        " '5e40dfe4-2e43-4629-8bc9-87d8d3bd9b2b',\n",
        " '261c80a0-644f-48f7-8ce2-2f819e25333e',\n",
        " 'd2700c62-85fe-406c-bd23-907b6d8a22fc',\n",
        " 'd39069ae-3652-403f-bd35-f068d94500ed',\n",
        " '92e3e924-fcc2-4d42-a2b1-88b1e22a9321',\n",
        " '428a2339-3a59-45db-b6bd-90f404fc37ce',\n",
        " 'dfcd66f9-2ef8-43c2-b46c-081f6dd0197e',\n",
        " '68f396a5-00b6-4bf0-954c-d65823bdbb37',\n",
        " '884c78a8-49a5-4d31-a917-4e6d54fa0c31',\n",
        " '0095fe37-1920-4e13-9d8d-5795126e6c49',\n",
        " '8bbba3e8-90ea-4ad0-af09-72ef9603f65f',\n",
        " '520e0f9e-f815-49ae-9c44-173acbd7ffa7',\n",
        " 'f1dbdb97-ee31-45fb-a2bc-e78beba409aa',\n",
        " '5bcba03e-56e3-4a87-a1c0-c694e5543479',\n",
        " '3ed8c753-d1e9-4df7-83ec-ccc59b1c9b5b',\n",
        " '8adc9642-0914-4f43-b677-39adc2acf9f2',\n",
        " '4f7c9f54-ffea-4447-b87f-12d4b998773c',\n",
        " '21efd24a-ae08-4a06-8424-cda86c064def',\n",
        " '69700739-a01f-4e7f-8503-7ad398e850fd',\n",
        " '4ee54a47-840d-43cf-903a-8ae846274e59',\n",
        " '1e93a061-6749-46d6-ac32-f7a78f5bf140',\n",
        " '5ad0a0fa-cac6-4f86-affa-6a04f667e196',\n",
        " '9bab0052-f34f-46e2-8d3a-9adaf659ba19',\n",
        " 'a916005c-3159-435c-bd9c-c0c7ac55f5c8',\n",
        " 'ca36fe63-201a-4fb6-96e9-a89233436c31',\n",
        " '6f5498e8-e972-4fd7-a181-594f08a6698a',\n",
        " 'fbd9048c-280a-43bd-9991-01dbd7c83a17',\n",
        " '1f5c7eba-349f-4b6c-893b-ccaa64fe4c77',\n",
        " 'd2dcb512-82d2-446c-9947-54446f590a8c',\n",
        " '574d0a10-4287-47f3-9e0c-fe1d9213d4a1',\n",
        " '4ea3deab-c3b3-4fb3-8634-9a4963b7a708',\n",
        " '6fcdf71a-2c1a-461b-abd1-5ea146f8da44',\n",
        " 'fd794453-5427-49e5-954c-484fe93adaec',\n",
        " '870d7eaa-a470-4d6f-84a4-a669899d0740',\n",
        " 'cfda0080-3344-4e8d-90b6-2da9f6b411b3',\n",
        " '0815c2a1-776a-4f1b-bb93-c9cfc266ef61',\n",
        " 'eb7a3a85-ccd1-4820-821a-0acb750a047c',\n",
        " '97c2126d-6220-47b8-91d7-a393a4e8295f',\n",
        " '7c855399-269c-4c62-ab92-d67288830d1b',\n",
        " '6cf0a473-d80f-4b77-b030-be782f7d0c95',\n",
        " '8b706b9f-3d2e-41c0-81c1-28d6aeea0e8d',\n",
        " 'cf274a29-2b31-43c8-a398-5bcbc484b6ae',\n",
        " '0133deb5-8168-413f-96b6-c14f9e48d525',\n",
        " '7d4e6c91-1a70-4061-ba17-cbb6d46955da',\n",
        " '149e73ac-df21-4a50-be5f-21e6536febc0',\n",
        " '0cb48056-6368-4303-9245-71bb0574c85b',\n",
        " '5d6c6e21-8e47-44bc-bd66-1aabf4b59c03',\n",
        " '0c7a47b8-388f-455b-a049-fc8c643db222',\n",
        " 'c5301b92-48ad-430c-bbfe-55c99d1b0de1',\n",
        " 'a00437b5-18c4-4be3-9dcf-116fbce63ad1',\n",
        " '3174c457-00c2-41d0-ac97-ef27fa2a144a',\n",
        " 'b7a06ff4-99b0-46c0-906e-25b19e0d5859',\n",
        " 'c1b5a332-0d03-47ee-932b-b586fdd29436',\n",
        " '2008c134-d8df-47d5-b0ce-2b9b7e134cc1',\n",
        " '5883dfbd-f65c-41f9-b506-bfdd3a6a5520',\n",
        " 'b16219a7-6a6a-4c7c-bcb0-4c86bf50c9ca',\n",
        " 'a7d05384-17ad-411d-9349-5ba9ac008a4e',\n",
        " 'f43cc4b1-feeb-4c59-876d-bb49face4e0b',\n",
        " 'd14d0aac-4cd2-45ec-8d13-ec79b516394f',\n",
        " '82be5e9d-5bad-40b2-82d9-806cd4dd541f',\n",
        " '5a2a9b91-b8f7-47d4-b120-76c6e34d0a2f',\n",
        " 'c1488795-fe0e-4998-928f-204d53542795',\n",
        " '42d37330-96dc-463a-b49b-f0aa358972d6',\n",
        " 'bb48d11a-4a93-4995-bd7e-3a7420de529c',\n",
        " '79275100-cebe-4b4d-b0b6-1d67871b7855',\n",
        " 'ce60a7d7-c189-4fcd-8a61-5db0d8006da9',\n",
        " '6792c504-37b6-4094-96f7-6ecd5ec15b8b',\n",
        " 'eb96e8c9-885e-4b8c-a9ee-5039dbed9773',\n",
        " 'c57fdea8-87cf-4d7a-bca0-659e732fbac5',\n",
        " '8fb699aa-e67f-4351-afb6-2fc582a18e24',\n",
        " '46627f60-05b7-4af9-8bbd-f4f4a1f048ba',\n",
        " '15b75483-cd91-4bca-bcbb-99d1e2f072f2',\n",
        " '98321be0-a484-47e2-9d52-e08ba64c232f',\n",
        " 'a63ea14e-bdae-45fd-b01a-f73b6f500af1',\n",
        " 'ff3ae487-af31-4a62-8b2f-772809e4086a',\n",
        " '4c609feb-fff0-44b6-941e-225e5cf2da30']"
       ]
      }
     ],
     "prompt_number": 25
    },
    {
     "cell_type": "code",
     "collapsed": false,
     "input": [
      "results"
     ],
     "language": "python",
     "metadata": {},
     "outputs": [
      {
       "metadata": {},
       "output_type": "pyout",
       "prompt_number": 16,
       "text": [
        "['/home/sgeadmin/pythonScripts/output/TestOne_20150310_235648_0.csv',\n",
        " '/home/sgeadmin/pythonScripts/output/TestOne_20150310_235648_1.csv',\n",
        " '/home/sgeadmin/pythonScripts/output/TestOne_20150310_235648_2.csv',\n",
        " '/home/sgeadmin/pythonScripts/output/TestOne_20150310_235648_3.csv']"
       ]
      }
     ],
     "prompt_number": 16
    },
    {
     "cell_type": "code",
     "collapsed": false,
     "input": [
      "len(dview)"
     ],
     "language": "python",
     "metadata": {},
     "outputs": [
      {
       "metadata": {},
       "output_type": "pyout",
       "prompt_number": 17,
       "text": [
        "20"
       ]
      }
     ],
     "prompt_number": 17
    },
    {
     "cell_type": "code",
     "collapsed": false,
     "input": [
      "rc.ids"
     ],
     "language": "python",
     "metadata": {},
     "outputs": [
      {
       "metadata": {},
       "output_type": "pyout",
       "prompt_number": 18,
       "text": [
        "[0, 1, 2, 3, 4, 5, 6, 7, 8, 9, 10, 11, 12, 13, 14, 15, 16, 17, 18, 19]"
       ]
      }
     ],
     "prompt_number": 18
    },
    {
     "cell_type": "code",
     "collapsed": false,
     "input": [],
     "language": "python",
     "metadata": {},
     "outputs": [],
     "prompt_number": 9
    },
    {
     "cell_type": "code",
     "collapsed": false,
     "input": [],
     "language": "python",
     "metadata": {},
     "outputs": []
    }
   ],
   "metadata": {}
  }
 ]
}